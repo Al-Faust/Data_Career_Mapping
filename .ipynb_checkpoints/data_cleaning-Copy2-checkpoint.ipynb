{
 "cells": [
  {
   "cell_type": "code",
   "execution_count": 1,
   "metadata": {},
   "outputs": [],
   "source": [
    "import numpy as np\n",
    "import pandas as pd\n",
    "import sys\n",
    "import re\n",
    "import matplotlib.pyplot as plt\n",
    "import seaborn as sns\n",
    "import pprint\n",
    "import nltk\n",
    "from nltk.probability import FreqDist\n",
    "from nltk.corpus import stopwords\n",
    "from nltk.tokenize import word_tokenize"
   ]
  },
  {
   "cell_type": "code",
   "execution_count": 2,
   "metadata": {},
   "outputs": [],
   "source": [
    "ds_df = pd.read_csv('ds.csv')"
   ]
  },
  {
   "cell_type": "code",
   "execution_count": 3,
   "metadata": {},
   "outputs": [
    {
     "name": "stdout",
     "output_type": "stream",
     "text": [
      "(1000, 12)\n",
      "Index(['Job Title', 'Salary Estimate', 'Job Description', 'Rating',\n",
      "       'Company Name', 'Location', 'Size', 'Founded', 'Type of ownership',\n",
      "       'Industry', 'Sector', 'Revenue'],\n",
      "      dtype='object')\n"
     ]
    }
   ],
   "source": [
    "print(ds_df.shape)\n",
    "print(ds_df.columns)"
   ]
  },
  {
   "cell_type": "markdown",
   "metadata": {},
   "source": [
    "#### Rename Columns"
   ]
  },
  {
   "cell_type": "code",
   "execution_count": 4,
   "metadata": {},
   "outputs": [
    {
     "data": {
      "text/plain": [
       "Index(['Job_Title', 'Salary_Estimate', 'Job_Description', 'Rating',\n",
       "       'Company_Name', 'Location', 'Size', 'Founded', 'Type_of_ownership',\n",
       "       'Industry', 'Sector', 'Revenue'],\n",
       "      dtype='object')"
      ]
     },
     "execution_count": 4,
     "metadata": {},
     "output_type": "execute_result"
    }
   ],
   "source": [
    "ds_df.columns = ds_df.columns.str.replace(' ', '_')\n",
    "ds_df.columns"
   ]
  },
  {
   "cell_type": "code",
   "execution_count": 5,
   "metadata": {},
   "outputs": [
    {
     "data": {
      "text/html": [
       "<div>\n",
       "<style scoped>\n",
       "    .dataframe tbody tr th:only-of-type {\n",
       "        vertical-align: middle;\n",
       "    }\n",
       "\n",
       "    .dataframe tbody tr th {\n",
       "        vertical-align: top;\n",
       "    }\n",
       "\n",
       "    .dataframe thead th {\n",
       "        text-align: right;\n",
       "    }\n",
       "</style>\n",
       "<table border=\"1\" class=\"dataframe\">\n",
       "  <thead>\n",
       "    <tr style=\"text-align: right;\">\n",
       "      <th></th>\n",
       "      <th>Job_Title</th>\n",
       "      <th>Salary_Estimate</th>\n",
       "      <th>Job_Description</th>\n",
       "      <th>Rating</th>\n",
       "      <th>Company_Name</th>\n",
       "      <th>Location</th>\n",
       "      <th>Size</th>\n",
       "      <th>Founded</th>\n",
       "      <th>Type_of_ownership</th>\n",
       "      <th>Industry</th>\n",
       "      <th>Sector</th>\n",
       "      <th>Revenue</th>\n",
       "    </tr>\n",
       "  </thead>\n",
       "  <tbody>\n",
       "    <tr>\n",
       "      <th>0</th>\n",
       "      <td>Data Scientist, Machine Learning</td>\n",
       "      <td>$48K-$79K\\n(Glassdoor est.)</td>\n",
       "      <td>Job Description\\n\\nAt Shipt, we are transformi...</td>\n",
       "      <td>3.4</td>\n",
       "      <td>Shipt\\n3.4</td>\n",
       "      <td>Birmingham, AL</td>\n",
       "      <td>1001 to 5000 Employees</td>\n",
       "      <td>2014</td>\n",
       "      <td>Subsidiary or Business Segment</td>\n",
       "      <td>Consumer Product Rental</td>\n",
       "      <td>Consumer Services</td>\n",
       "      <td>Unknown / Non-Applicable</td>\n",
       "    </tr>\n",
       "    <tr>\n",
       "      <th>1</th>\n",
       "      <td>Data Scientist</td>\n",
       "      <td>$78K-$133K\\n(Glassdoor est.)</td>\n",
       "      <td>Publishers Clearing House (PCH), located in Je...</td>\n",
       "      <td>3.4</td>\n",
       "      <td>Publishers Clearing House\\n3.4</td>\n",
       "      <td>Jericho, NY</td>\n",
       "      <td>501 to 1000 Employees</td>\n",
       "      <td>1953</td>\n",
       "      <td>Company - Private</td>\n",
       "      <td>Advertising &amp; Marketing</td>\n",
       "      <td>Business Services</td>\n",
       "      <td>$500 million to $1 billion (USD)</td>\n",
       "    </tr>\n",
       "    <tr>\n",
       "      <th>2</th>\n",
       "      <td>Data Engineer</td>\n",
       "      <td>$72K-$135K\\n(Glassdoor est.)</td>\n",
       "      <td>About The Role:\\n\\nARC is searching for a Data...</td>\n",
       "      <td>3.9</td>\n",
       "      <td>Airlines Reporting Corporation (ARC)\\n3.9</td>\n",
       "      <td>Arlington, VA</td>\n",
       "      <td>201 to 500 Employees</td>\n",
       "      <td>1984</td>\n",
       "      <td>Company - Private</td>\n",
       "      <td>Financial Transaction Processing</td>\n",
       "      <td>Finance</td>\n",
       "      <td>$100 to $500 million (USD)</td>\n",
       "    </tr>\n",
       "    <tr>\n",
       "      <th>3</th>\n",
       "      <td>Sr. Data Scientist</td>\n",
       "      <td>$71K-$118K\\n(Glassdoor est.)</td>\n",
       "      <td>Overview:\\n\\nMedifast is seeking a full-time S...</td>\n",
       "      <td>2.9</td>\n",
       "      <td>Medifast, Inc.\\n2.9</td>\n",
       "      <td>Baltimore, MD</td>\n",
       "      <td>501 to 1000 Employees</td>\n",
       "      <td>1980</td>\n",
       "      <td>Company - Public</td>\n",
       "      <td>Health, Beauty, &amp; Fitness</td>\n",
       "      <td>Consumer Services</td>\n",
       "      <td>$500 million to $1 billion (USD)</td>\n",
       "    </tr>\n",
       "    <tr>\n",
       "      <th>4</th>\n",
       "      <td>Data Scientist</td>\n",
       "      <td>-1</td>\n",
       "      <td>Job Description:\\n\\nOur Advanced Data Analytic...</td>\n",
       "      <td>3.0</td>\n",
       "      <td>Metron, Inc.\\n3.0</td>\n",
       "      <td>Reston, VA</td>\n",
       "      <td>51 to 200 Employees</td>\n",
       "      <td>-1</td>\n",
       "      <td>Company - Private</td>\n",
       "      <td>Electrical &amp; Electronic Manufacturing</td>\n",
       "      <td>Manufacturing</td>\n",
       "      <td>$25 to $50 million (USD)</td>\n",
       "    </tr>\n",
       "  </tbody>\n",
       "</table>\n",
       "</div>"
      ],
      "text/plain": [
       "                          Job_Title               Salary_Estimate  \\\n",
       "0  Data Scientist, Machine Learning   $48K-$79K\\n(Glassdoor est.)   \n",
       "1                    Data Scientist  $78K-$133K\\n(Glassdoor est.)   \n",
       "2                     Data Engineer  $72K-$135K\\n(Glassdoor est.)   \n",
       "3                Sr. Data Scientist  $71K-$118K\\n(Glassdoor est.)   \n",
       "4                    Data Scientist                            -1   \n",
       "\n",
       "                                     Job_Description  Rating  \\\n",
       "0  Job Description\\n\\nAt Shipt, we are transformi...     3.4   \n",
       "1  Publishers Clearing House (PCH), located in Je...     3.4   \n",
       "2  About The Role:\\n\\nARC is searching for a Data...     3.9   \n",
       "3  Overview:\\n\\nMedifast is seeking a full-time S...     2.9   \n",
       "4  Job Description:\\n\\nOur Advanced Data Analytic...     3.0   \n",
       "\n",
       "                                Company_Name        Location  \\\n",
       "0                                 Shipt\\n3.4  Birmingham, AL   \n",
       "1             Publishers Clearing House\\n3.4     Jericho, NY   \n",
       "2  Airlines Reporting Corporation (ARC)\\n3.9   Arlington, VA   \n",
       "3                        Medifast, Inc.\\n2.9   Baltimore, MD   \n",
       "4                          Metron, Inc.\\n3.0      Reston, VA   \n",
       "\n",
       "                     Size  Founded               Type_of_ownership  \\\n",
       "0  1001 to 5000 Employees     2014  Subsidiary or Business Segment   \n",
       "1   501 to 1000 Employees     1953               Company - Private   \n",
       "2    201 to 500 Employees     1984               Company - Private   \n",
       "3   501 to 1000 Employees     1980                Company - Public   \n",
       "4     51 to 200 Employees       -1               Company - Private   \n",
       "\n",
       "                                Industry             Sector  \\\n",
       "0                Consumer Product Rental  Consumer Services   \n",
       "1                Advertising & Marketing  Business Services   \n",
       "2       Financial Transaction Processing            Finance   \n",
       "3              Health, Beauty, & Fitness  Consumer Services   \n",
       "4  Electrical & Electronic Manufacturing      Manufacturing   \n",
       "\n",
       "                            Revenue  \n",
       "0          Unknown / Non-Applicable  \n",
       "1  $500 million to $1 billion (USD)  \n",
       "2        $100 to $500 million (USD)  \n",
       "3  $500 million to $1 billion (USD)  \n",
       "4          $25 to $50 million (USD)  "
      ]
     },
     "execution_count": 5,
     "metadata": {},
     "output_type": "execute_result"
    }
   ],
   "source": [
    "ds_df.head()"
   ]
  },
  {
   "cell_type": "markdown",
   "metadata": {},
   "source": [
    "#### Cleanup Salary_Estimate data\n",
    "- Drop the rows that do not have salary estimate\n",
    "- Remove additional text attached to salary value"
   ]
  },
  {
   "cell_type": "code",
   "execution_count": 6,
   "metadata": {},
   "outputs": [
    {
     "name": "stdout",
     "output_type": "stream",
     "text": [
      "(737, 12)\n"
     ]
    }
   ],
   "source": [
    "# Drop the rows that do not have salary estimate\n",
    "ds_df = ds_df[ds_df['Salary_Estimate'] != '-1']\n",
    "print(ds_df.shape)"
   ]
  },
  {
   "cell_type": "code",
   "execution_count": 7,
   "metadata": {},
   "outputs": [],
   "source": [
    "ds_df['Salary_Estimate'] = ds_df['Salary_Estimate'].str.replace('Employer Provided Salary:\\n', '')\n",
    "#ds_df"
   ]
  },
  {
   "cell_type": "code",
   "execution_count": 8,
   "metadata": {},
   "outputs": [],
   "source": [
    "# remove additional text\n",
    "ds_df['Salary_Estimate'] = ds_df['Salary_Estimate'].apply(lambda x: x.split('\\n')[0])"
   ]
  },
  {
   "cell_type": "code",
   "execution_count": 9,
   "metadata": {},
   "outputs": [
    {
     "data": {
      "text/html": [
       "<div>\n",
       "<style scoped>\n",
       "    .dataframe tbody tr th:only-of-type {\n",
       "        vertical-align: middle;\n",
       "    }\n",
       "\n",
       "    .dataframe tbody tr th {\n",
       "        vertical-align: top;\n",
       "    }\n",
       "\n",
       "    .dataframe thead th {\n",
       "        text-align: right;\n",
       "    }\n",
       "</style>\n",
       "<table border=\"1\" class=\"dataframe\">\n",
       "  <thead>\n",
       "    <tr style=\"text-align: right;\">\n",
       "      <th></th>\n",
       "      <th>Job_Title</th>\n",
       "      <th>Salary_Estimate</th>\n",
       "      <th>Job_Description</th>\n",
       "      <th>Rating</th>\n",
       "      <th>Company_Name</th>\n",
       "      <th>Location</th>\n",
       "      <th>Size</th>\n",
       "      <th>Founded</th>\n",
       "      <th>Type_of_ownership</th>\n",
       "      <th>Industry</th>\n",
       "      <th>Sector</th>\n",
       "      <th>Revenue</th>\n",
       "    </tr>\n",
       "  </thead>\n",
       "  <tbody>\n",
       "    <tr>\n",
       "      <th>591</th>\n",
       "      <td>Research Lab Specialist or Staff Scientist</td>\n",
       "      <td>$17-$36 Per Hour</td>\n",
       "      <td>With resources to help you succeed and develop...</td>\n",
       "      <td>4.7</td>\n",
       "      <td>St. Jude Children's Research Hospital\\n4.7</td>\n",
       "      <td>Raleigh, NC</td>\n",
       "      <td>1001 to 5000 Employees</td>\n",
       "      <td>1962</td>\n",
       "      <td>Nonprofit Organization</td>\n",
       "      <td>Health Care Services &amp; Hospitals</td>\n",
       "      <td>Health Care</td>\n",
       "      <td>$1 to $2 billion (USD)</td>\n",
       "    </tr>\n",
       "  </tbody>\n",
       "</table>\n",
       "</div>"
      ],
      "text/plain": [
       "                                      Job_Title   Salary_Estimate  \\\n",
       "591  Research Lab Specialist or Staff Scientist  $17-$36 Per Hour   \n",
       "\n",
       "                                       Job_Description  Rating  \\\n",
       "591  With resources to help you succeed and develop...     4.7   \n",
       "\n",
       "                                   Company_Name     Location  \\\n",
       "591  St. Jude Children's Research Hospital\\n4.7  Raleigh, NC   \n",
       "\n",
       "                       Size  Founded       Type_of_ownership  \\\n",
       "591  1001 to 5000 Employees     1962  Nonprofit Organization   \n",
       "\n",
       "                             Industry       Sector                 Revenue  \n",
       "591  Health Care Services & Hospitals  Health Care  $1 to $2 billion (USD)  "
      ]
     },
     "execution_count": 9,
     "metadata": {},
     "output_type": "execute_result"
    }
   ],
   "source": [
    "ds_df[ds_df['Salary_Estimate'].str.contains(\"Per Hour\")]"
   ]
  },
  {
   "cell_type": "code",
   "execution_count": 10,
   "metadata": {},
   "outputs": [],
   "source": [
    "ds_df['hourly'] = ds_df['Salary_Estimate'].apply(lambda x: 1 if 'per hour' in x.lower() else 0)"
   ]
  },
  {
   "cell_type": "code",
   "execution_count": 11,
   "metadata": {},
   "outputs": [],
   "source": [
    "ds_df['Salary_Estimate'] = ds_df['Salary_Estimate'].str.replace('Per Hour', '').str.replace('K', \"\").str.replace('$', '')"
   ]
  },
  {
   "cell_type": "code",
   "execution_count": 12,
   "metadata": {},
   "outputs": [],
   "source": [
    "ds_df['Salary_Estimate'] = ds_df['Salary_Estimate'].str.replace('K', \"\").str.replace('$', '')"
   ]
  },
  {
   "cell_type": "code",
   "execution_count": 13,
   "metadata": {},
   "outputs": [],
   "source": [
    "ds_df['min_salary'] = ds_df['Salary_Estimate'].apply(lambda x: int(x.split('-')[0]))\n",
    "ds_df['max_salary'] = ds_df['Salary_Estimate'].apply(lambda x: int(x.split('-')[1]))"
   ]
  },
  {
   "cell_type": "code",
   "execution_count": 14,
   "metadata": {},
   "outputs": [],
   "source": [
    "# Hourly pay to annual conversion\n",
    "ds_df['min_salary'] = ds_df.apply(lambda x: x.min_salary*2 if x.hourly ==1 else x.min_salary, axis =1)\n",
    "ds_df['max_salary'] = ds_df.apply(lambda x: x.max_salary*2 if x.hourly ==1 else x.max_salary, axis =1)"
   ]
  },
  {
   "cell_type": "code",
   "execution_count": 15,
   "metadata": {},
   "outputs": [],
   "source": [
    "ds_df['avg_salary'] = (ds_df.min_salary + ds_df.max_salary)/2"
   ]
  },
  {
   "cell_type": "code",
   "execution_count": 16,
   "metadata": {},
   "outputs": [],
   "source": [
    "ds_df['Company_Name'] = ds_df['Company_Name'].apply(lambda x: x.split('\\n')[0])"
   ]
  },
  {
   "cell_type": "code",
   "execution_count": 17,
   "metadata": {},
   "outputs": [],
   "source": [
    "ds_df['City'] = ds_df['Location'].apply(lambda x: x.split(',')[0])\n",
    "ds_df['State'] = ds_df['Location'].apply(lambda x: x.split(',')[1])"
   ]
  },
  {
   "cell_type": "code",
   "execution_count": 18,
   "metadata": {},
   "outputs": [],
   "source": [
    "ds_df['Years_Old'] = ds_df.Founded.apply(lambda x: x if x < 0 else 2020 - x)"
   ]
  },
  {
   "cell_type": "code",
   "execution_count": 19,
   "metadata": {},
   "outputs": [],
   "source": [
    "def titles(title):\n",
    "    if 'scientist' in title.lower():\n",
    "        return 'Data Scientist'\n",
    "    elif 'data engineer' in title.lower():\n",
    "        return 'Data Engineer'\n",
    "    elif 'analyst' in title.lower():\n",
    "        return 'Data Analyst'\n",
    "    elif 'machine learning' in title.lower():\n",
    "        return 'ML Engineer'\n",
    "    elif 'manager' in title.lower():\n",
    "        return 'Manager'\n",
    "    elif 'director' in title.lower():\n",
    "        return 'Director'\n",
    "    elif 'consultant' in title.lower():\n",
    "        return 'Consultant'\n",
    "    else:\n",
    "        return 'na'\n",
    "\n",
    "pos_lead=re.compile(r'lead|principal|iii|iv',re.I)\n",
    "pos_sr=re.compile(r'senior|sr.|sr|ii',re.I)\n",
    "pos_jr=re.compile(r'junior|jr|jr.|entry|i',re.I)\n",
    "def seniority(title):\n",
    "    if 'sr' in title.lower() or 'senior' in title.lower() or 'sr.' in title.lower() or 'ii' in title.lower():\n",
    "            return 'Senior'\n",
    "    elif 'lead' in title.lower() or 'principal' in title.lower() or 'iii' in title.lower() or \\\n",
    "            'iv' in title.lower() or 'director' in title.lower():\n",
    "            return 'Lead'\n",
    "    elif 'jr' in title.lower() or 'jr.' in title.lower() or 'junior' in title.lower():\n",
    "        return 'Junior'\n",
    "    else:\n",
    "        return 'regular'"
   ]
  },
  {
   "cell_type": "code",
   "execution_count": 20,
   "metadata": {},
   "outputs": [
    {
     "data": {
      "text/html": [
       "<div>\n",
       "<style scoped>\n",
       "    .dataframe tbody tr th:only-of-type {\n",
       "        vertical-align: middle;\n",
       "    }\n",
       "\n",
       "    .dataframe tbody tr th {\n",
       "        vertical-align: top;\n",
       "    }\n",
       "\n",
       "    .dataframe thead th {\n",
       "        text-align: right;\n",
       "    }\n",
       "</style>\n",
       "<table border=\"1\" class=\"dataframe\">\n",
       "  <thead>\n",
       "    <tr style=\"text-align: right;\">\n",
       "      <th></th>\n",
       "      <th>Job_Title</th>\n",
       "      <th>Salary_Estimate</th>\n",
       "      <th>Job_Description</th>\n",
       "      <th>Rating</th>\n",
       "      <th>Company_Name</th>\n",
       "      <th>Location</th>\n",
       "      <th>Size</th>\n",
       "      <th>Founded</th>\n",
       "      <th>Type_of_ownership</th>\n",
       "      <th>Industry</th>\n",
       "      <th>Sector</th>\n",
       "      <th>Revenue</th>\n",
       "      <th>hourly</th>\n",
       "      <th>min_salary</th>\n",
       "      <th>max_salary</th>\n",
       "      <th>avg_salary</th>\n",
       "      <th>City</th>\n",
       "      <th>State</th>\n",
       "      <th>Years_Old</th>\n",
       "      <th>job_title_corr</th>\n",
       "    </tr>\n",
       "  </thead>\n",
       "  <tbody>\n",
       "    <tr>\n",
       "      <th>0</th>\n",
       "      <td>Data Scientist, Machine Learning</td>\n",
       "      <td>48-79</td>\n",
       "      <td>Job Description\\n\\nAt Shipt, we are transformi...</td>\n",
       "      <td>3.4</td>\n",
       "      <td>Shipt</td>\n",
       "      <td>Birmingham, AL</td>\n",
       "      <td>1001 to 5000 Employees</td>\n",
       "      <td>2014</td>\n",
       "      <td>Subsidiary or Business Segment</td>\n",
       "      <td>Consumer Product Rental</td>\n",
       "      <td>Consumer Services</td>\n",
       "      <td>Unknown / Non-Applicable</td>\n",
       "      <td>0</td>\n",
       "      <td>48</td>\n",
       "      <td>79</td>\n",
       "      <td>63.5</td>\n",
       "      <td>Birmingham</td>\n",
       "      <td>AL</td>\n",
       "      <td>6</td>\n",
       "      <td>Data Scientist</td>\n",
       "    </tr>\n",
       "    <tr>\n",
       "      <th>1</th>\n",
       "      <td>Data Scientist</td>\n",
       "      <td>78-133</td>\n",
       "      <td>Publishers Clearing House (PCH), located in Je...</td>\n",
       "      <td>3.4</td>\n",
       "      <td>Publishers Clearing House</td>\n",
       "      <td>Jericho, NY</td>\n",
       "      <td>501 to 1000 Employees</td>\n",
       "      <td>1953</td>\n",
       "      <td>Company - Private</td>\n",
       "      <td>Advertising &amp; Marketing</td>\n",
       "      <td>Business Services</td>\n",
       "      <td>$500 million to $1 billion (USD)</td>\n",
       "      <td>0</td>\n",
       "      <td>78</td>\n",
       "      <td>133</td>\n",
       "      <td>105.5</td>\n",
       "      <td>Jericho</td>\n",
       "      <td>NY</td>\n",
       "      <td>67</td>\n",
       "      <td>Data Scientist</td>\n",
       "    </tr>\n",
       "    <tr>\n",
       "      <th>2</th>\n",
       "      <td>Data Engineer</td>\n",
       "      <td>72-135</td>\n",
       "      <td>About The Role:\\n\\nARC is searching for a Data...</td>\n",
       "      <td>3.9</td>\n",
       "      <td>Airlines Reporting Corporation (ARC)</td>\n",
       "      <td>Arlington, VA</td>\n",
       "      <td>201 to 500 Employees</td>\n",
       "      <td>1984</td>\n",
       "      <td>Company - Private</td>\n",
       "      <td>Financial Transaction Processing</td>\n",
       "      <td>Finance</td>\n",
       "      <td>$100 to $500 million (USD)</td>\n",
       "      <td>0</td>\n",
       "      <td>72</td>\n",
       "      <td>135</td>\n",
       "      <td>103.5</td>\n",
       "      <td>Arlington</td>\n",
       "      <td>VA</td>\n",
       "      <td>36</td>\n",
       "      <td>Data Engineer</td>\n",
       "    </tr>\n",
       "    <tr>\n",
       "      <th>3</th>\n",
       "      <td>Sr. Data Scientist</td>\n",
       "      <td>71-118</td>\n",
       "      <td>Overview:\\n\\nMedifast is seeking a full-time S...</td>\n",
       "      <td>2.9</td>\n",
       "      <td>Medifast, Inc.</td>\n",
       "      <td>Baltimore, MD</td>\n",
       "      <td>501 to 1000 Employees</td>\n",
       "      <td>1980</td>\n",
       "      <td>Company - Public</td>\n",
       "      <td>Health, Beauty, &amp; Fitness</td>\n",
       "      <td>Consumer Services</td>\n",
       "      <td>$500 million to $1 billion (USD)</td>\n",
       "      <td>0</td>\n",
       "      <td>71</td>\n",
       "      <td>118</td>\n",
       "      <td>94.5</td>\n",
       "      <td>Baltimore</td>\n",
       "      <td>MD</td>\n",
       "      <td>40</td>\n",
       "      <td>Data Scientist</td>\n",
       "    </tr>\n",
       "    <tr>\n",
       "      <th>5</th>\n",
       "      <td>Data Analyst</td>\n",
       "      <td>35-70</td>\n",
       "      <td>Data Specialist\\n\\nJob Summary\\n\\nWe are on th...</td>\n",
       "      <td>4.9</td>\n",
       "      <td>Marxent</td>\n",
       "      <td>Miamisburg, OH</td>\n",
       "      <td>51 to 200 Employees</td>\n",
       "      <td>2011</td>\n",
       "      <td>Company - Private</td>\n",
       "      <td>Computer Hardware &amp; Software</td>\n",
       "      <td>Information Technology</td>\n",
       "      <td>Unknown / Non-Applicable</td>\n",
       "      <td>0</td>\n",
       "      <td>35</td>\n",
       "      <td>70</td>\n",
       "      <td>52.5</td>\n",
       "      <td>Miamisburg</td>\n",
       "      <td>OH</td>\n",
       "      <td>9</td>\n",
       "      <td>Data Analyst</td>\n",
       "    </tr>\n",
       "  </tbody>\n",
       "</table>\n",
       "</div>"
      ],
      "text/plain": [
       "                          Job_Title Salary_Estimate  \\\n",
       "0  Data Scientist, Machine Learning           48-79   \n",
       "1                    Data Scientist          78-133   \n",
       "2                     Data Engineer          72-135   \n",
       "3                Sr. Data Scientist          71-118   \n",
       "5                      Data Analyst           35-70   \n",
       "\n",
       "                                     Job_Description  Rating  \\\n",
       "0  Job Description\\n\\nAt Shipt, we are transformi...     3.4   \n",
       "1  Publishers Clearing House (PCH), located in Je...     3.4   \n",
       "2  About The Role:\\n\\nARC is searching for a Data...     3.9   \n",
       "3  Overview:\\n\\nMedifast is seeking a full-time S...     2.9   \n",
       "5  Data Specialist\\n\\nJob Summary\\n\\nWe are on th...     4.9   \n",
       "\n",
       "                           Company_Name        Location  \\\n",
       "0                                 Shipt  Birmingham, AL   \n",
       "1             Publishers Clearing House     Jericho, NY   \n",
       "2  Airlines Reporting Corporation (ARC)   Arlington, VA   \n",
       "3                        Medifast, Inc.   Baltimore, MD   \n",
       "5                               Marxent  Miamisburg, OH   \n",
       "\n",
       "                     Size  Founded               Type_of_ownership  \\\n",
       "0  1001 to 5000 Employees     2014  Subsidiary or Business Segment   \n",
       "1   501 to 1000 Employees     1953               Company - Private   \n",
       "2    201 to 500 Employees     1984               Company - Private   \n",
       "3   501 to 1000 Employees     1980                Company - Public   \n",
       "5     51 to 200 Employees     2011               Company - Private   \n",
       "\n",
       "                           Industry                  Sector  \\\n",
       "0           Consumer Product Rental       Consumer Services   \n",
       "1           Advertising & Marketing       Business Services   \n",
       "2  Financial Transaction Processing                 Finance   \n",
       "3         Health, Beauty, & Fitness       Consumer Services   \n",
       "5      Computer Hardware & Software  Information Technology   \n",
       "\n",
       "                            Revenue  hourly  min_salary  max_salary  \\\n",
       "0          Unknown / Non-Applicable       0          48          79   \n",
       "1  $500 million to $1 billion (USD)       0          78         133   \n",
       "2        $100 to $500 million (USD)       0          72         135   \n",
       "3  $500 million to $1 billion (USD)       0          71         118   \n",
       "5          Unknown / Non-Applicable       0          35          70   \n",
       "\n",
       "   avg_salary        City State  Years_Old  job_title_corr  \n",
       "0        63.5  Birmingham    AL          6  Data Scientist  \n",
       "1       105.5     Jericho    NY         67  Data Scientist  \n",
       "2       103.5   Arlington    VA         36   Data Engineer  \n",
       "3        94.5   Baltimore    MD         40  Data Scientist  \n",
       "5        52.5  Miamisburg    OH          9    Data Analyst  "
      ]
     },
     "execution_count": 20,
     "metadata": {},
     "output_type": "execute_result"
    }
   ],
   "source": [
    "ds_df['job_title_corr'] = ds_df['Job_Title'].apply(titles)\n",
    "ds_df.head()"
   ]
  },
  {
   "cell_type": "code",
   "execution_count": 21,
   "metadata": {},
   "outputs": [
    {
     "data": {
      "text/plain": [
       "regular    618\n",
       "Senior      79\n",
       "Lead        38\n",
       "Junior       2\n",
       "Name: job_level, dtype: int64"
      ]
     },
     "execution_count": 21,
     "metadata": {},
     "output_type": "execute_result"
    }
   ],
   "source": [
    "ds_df['job_level'] = ds_df['Job_Title'].apply(seniority)\n",
    "ds_df['job_level'].value_counts()"
   ]
  },
  {
   "cell_type": "code",
   "execution_count": 22,
   "metadata": {},
   "outputs": [
    {
     "name": "stdout",
     "output_type": "stream",
     "text": [
      "[('data', 7740),\n",
      " ('experience', 3750),\n",
      " ('work', 1923),\n",
      " ('business', 1897),\n",
      " ('learning', 1584),\n",
      " ('science', 1523),\n",
      " ('team', 1517),\n",
      " ('we', 1465),\n",
      " ('skills', 1404),\n",
      " ('analysis', 1264),\n",
      " ('analytics', 1229),\n",
      " ('machine', 1201),\n",
      " ('the', 1189),\n",
      " ('ability', 1116),\n",
      " ('years', 1005),\n",
      " ('development', 969),\n",
      " ('models', 892),\n",
      " ('tools', 874),\n",
      " ('solutions', 832),\n",
      " ('including', 829),\n",
      " ('new', 819),\n",
      " ('working', 805),\n",
      " ('information', 801),\n",
      " ('research', 797),\n",
      " ('required', 792),\n",
      " ('company', 791),\n",
      " ('develop', 789),\n",
      " ('technical', 786),\n",
      " ('support', 753),\n",
      " ('using', 744),\n",
      " ('knowledge', 742),\n",
      " ('computer', 735),\n",
      " ('strong', 729),\n",
      " ('engineering', 725),\n",
      " ('related', 722),\n",
      " ('you', 711),\n",
      " ('job', 706),\n",
      " ('degree', 700),\n",
      " ('design', 695),\n",
      " ('python', 645),\n",
      " ('systems', 642),\n",
      " ('statistical', 639),\n",
      " ('position', 630),\n",
      " ('opportunity', 626),\n",
      " ('management', 623),\n",
      " ('scientist', 620),\n",
      " ('environment', 619),\n",
      " ('modeling', 617),\n",
      " ('statistics', 600),\n",
      " ('advanced', 599),\n",
      " ('technology', 589),\n",
      " ('status', 573),\n",
      " ('complex', 570),\n",
      " ('provide', 570),\n",
      " ('product', 569),\n",
      " ('problems', 565),\n",
      " ('techniques', 564),\n",
      " ('requirements', 559),\n",
      " ('software', 558),\n",
      " ('teams', 552),\n",
      " ('sql', 546),\n",
      " ('employment', 537),\n",
      " ('preferred', 536),\n",
      " ('field', 526),\n",
      " ('us', 526),\n",
      " ('analytical', 517),\n",
      " ('qualifications', 516),\n",
      " ('insights', 508),\n",
      " ('help', 506),\n",
      " ('etc', 496),\n",
      " ('our', 482),\n",
      " ('use', 482),\n",
      " ('this', 479),\n",
      " ('technologies', 478),\n",
      " ('must', 476),\n",
      " ('equal', 466),\n",
      " ('role', 459),\n",
      " ('build', 458),\n",
      " ('projects', 449),\n",
      " ('products', 437),\n",
      " ('r', 436),\n",
      " ('time', 432),\n",
      " ('customers', 432),\n",
      " ('employees', 432),\n",
      " ('responsibilities', 431),\n",
      " ('national', 424),\n",
      " ('people', 424),\n",
      " ('performance', 423),\n",
      " ('algorithms', 421),\n",
      " ('communication', 421),\n",
      " ('across', 416),\n",
      " ('services', 412),\n",
      " ('intelligence', 404),\n",
      " ('health', 398),\n",
      " ('building', 390),\n",
      " ('one', 388),\n",
      " ('opportunities', 388),\n",
      " ('employer', 386),\n",
      " ('make', 386),\n",
      " ('and/or', 384)]\n"
     ]
    }
   ],
   "source": [
    "# combine the job desciption for all the jobs into one string\n",
    "job_des_str = ' '.join([x for x in ds_df['Job_Description']])\n",
    "# word_tokenize splits all the words\n",
    "tokens = nltk.word_tokenize(job_des_str)\n",
    "stopwords = nltk.corpus.stopwords.words('english')\n",
    "\n",
    "filtered_words_1 = [w.lower() for w in tokens if not w in stopwords]\n",
    "filtered_words_2 = [w for w in filtered_words_1 if re.match(r'\\w',w)]\n",
    "fdist = FreqDist(filtered_words_2)\n",
    "tops=fdist.most_common(100)\n",
    "pprint.pprint(tops)"
   ]
  },
  {
   "cell_type": "code",
   "execution_count": 24,
   "metadata": {},
   "outputs": [],
   "source": [
    "pat_python_r = re.compile(r'python|r',re.I)\n",
    "pat_sql_nosql = re.compile(r'sql|nosql',re.I)\n",
    "pat_java = re.compile(r'java',re.I)\n",
    "pat_javascript = re.compile(r'javascript',re.I)\n",
    "pat_tab_bi = re.compile(r'tableau|bi|powerbi|power',re.I)\n",
    "pat_hadoop = re.compile(r'hadoop|hive|spark',re.I)\n",
    "pat_sas = re.compile(r'sas',re.I)\n",
    "pat_visualization = re.compile(r'visualization|visualizations',re.I)"
   ]
  },
  {
   "cell_type": "code",
   "execution_count": 27,
   "metadata": {},
   "outputs": [
    {
     "data": {
      "text/plain": [
       "Python/R    737\n",
       "Name: Job_Skill, dtype: int64"
      ]
     },
     "execution_count": 27,
     "metadata": {},
     "output_type": "execute_result"
    }
   ],
   "source": [
    "def job_skill(row):\n",
    "    if re.search(pat_python_r,row['Job_Description']):\n",
    "        return 'Python/R'\n",
    "    if re.search(pat_tab_bi,row['Job_Description']):\n",
    "        return 'PowerBi/Tableau'\n",
    "    if re.search(pat_visualization,row['Job_Description']):\n",
    "        return 'Visualization'\n",
    "    if re.search(pat_java,row['Job_Description']):\n",
    "        return 'Java'\n",
    "    if re.search(pat_javascript,row['Job_Description']):\n",
    "        return 'JavaScript'\n",
    "    if re.search(pat_sql_nosql,row['Job_Description']):\n",
    "        return 'SQL/NoSQL'\n",
    "    if re.search(pat_hadoop,row['Job_Description']):\n",
    "        return 'Hadoop/Hive/Spark'\n",
    "    if re.search(pat_sas,row['Job_Description']):\n",
    "        return 'SAS'\n",
    "    return None\n",
    "    \n",
    "ds_df['Job_Skill']=ds_df.apply(job_skill,axis=1)\n",
    "ds_df['Job_Skill'].value_counts()"
   ]
  },
  {
   "cell_type": "code",
   "execution_count": null,
   "metadata": {},
   "outputs": [],
   "source": [
    "    if re.search(pat_r,row['fdist']):\n",
    "        return 'R'\n",
    "    if re.search(pat_sql,row['fdist']):\n",
    "        return 'SQL'\n",
    "    if re.search(pat_nosql,row['fdist']):\n",
    "        return 'NoSQL' \n",
    "    if re.search(pat_java,row['fdist']):\n",
    "        return 'Java' \n",
    "    \n",
    "ds_df['job_skills']=ds_df.apply(job_skill,axis=1)\n",
    "ds_df.head()"
   ]
  },
  {
   "cell_type": "code",
   "execution_count": null,
   "metadata": {},
   "outputs": [],
   "source": [
    "    if re.search(pat_javascript,row['Job_Description']):\n",
    "        return 'JavaScript' \n",
    "    if re.search(pat_tableau,row['Job_Description']):\n",
    "        return 'Tableau' \n",
    "    if re.search(pat_bi,row['Job_Description']):\n",
    "        return 'PowerBi' \n",
    "    if re.search(pat_sas,row['Job_Description']):\n",
    "        return 'SAS' \n",
    "    if re.search(pat_visualization,row['Job_Description']):\n",
    "        return 'Visualization' \n",
    "    if re.search(pat_hadoop,row['Job_Description']):\n",
    "        return 'Hadoop/Hive/Spark' \n",
    "    return None\n",
    "    \n",
    "ds_df['job_skills']=ds_df.apply(job_skill,axis=1)\n",
    "ds_df.head()"
   ]
  },
  {
   "cell_type": "code",
   "execution_count": null,
   "metadata": {},
   "outputs": [],
   "source": [
    "ds_df.shape"
   ]
  },
  {
   "cell_type": "code",
   "execution_count": null,
   "metadata": {},
   "outputs": [],
   "source": [
    "pd.pivot_table(ds_df, index = 'job_title_corr', values = 'avg_salary')"
   ]
  },
  {
   "cell_type": "code",
   "execution_count": null,
   "metadata": {},
   "outputs": [],
   "source": [
    "ds_df['job_skills'].value_counts()"
   ]
  },
  {
   "cell_type": "code",
   "execution_count": null,
   "metadata": {},
   "outputs": [],
   "source": [
    "pd.set_option('display.max_rows', 1000) "
   ]
  },
  {
   "cell_type": "code",
   "execution_count": null,
   "metadata": {},
   "outputs": [],
   "source": [
    "ds_df"
   ]
  },
  {
   "cell_type": "code",
   "execution_count": null,
   "metadata": {},
   "outputs": [],
   "source": [
    "pat_python"
   ]
  },
  {
   "cell_type": "code",
   "execution_count": null,
   "metadata": {},
   "outputs": [],
   "source": [
    "ds_df['RR'] = ds_df['Job_Description'].apply(lambda x: 1 if ' r,' in x.lower() or ' r ' in x.lower() or ',r ' in x.lower() or ' r' in x.lower() else 0)\n",
    "ds_df['RR'].value_counts()"
   ]
  },
  {
   "cell_type": "code",
   "execution_count": null,
   "metadata": {},
   "outputs": [],
   "source": []
  },
  {
   "cell_type": "code",
   "execution_count": null,
   "metadata": {},
   "outputs": [],
   "source": []
  },
  {
   "cell_type": "code",
   "execution_count": null,
   "metadata": {},
   "outputs": [],
   "source": []
  },
  {
   "cell_type": "code",
   "execution_count": null,
   "metadata": {},
   "outputs": [],
   "source": []
  },
  {
   "cell_type": "code",
   "execution_count": null,
   "metadata": {},
   "outputs": [],
   "source": []
  },
  {
   "cell_type": "code",
   "execution_count": null,
   "metadata": {},
   "outputs": [],
   "source": []
  },
  {
   "cell_type": "code",
   "execution_count": null,
   "metadata": {},
   "outputs": [],
   "source": []
  },
  {
   "cell_type": "code",
   "execution_count": null,
   "metadata": {},
   "outputs": [],
   "source": []
  },
  {
   "cell_type": "code",
   "execution_count": null,
   "metadata": {},
   "outputs": [],
   "source": []
  },
  {
   "cell_type": "code",
   "execution_count": null,
   "metadata": {},
   "outputs": [],
   "source": []
  },
  {
   "cell_type": "code",
   "execution_count": null,
   "metadata": {},
   "outputs": [],
   "source": []
  },
  {
   "cell_type": "code",
   "execution_count": null,
   "metadata": {},
   "outputs": [],
   "source": []
  },
  {
   "cell_type": "code",
   "execution_count": null,
   "metadata": {},
   "outputs": [],
   "source": []
  },
  {
   "cell_type": "code",
   "execution_count": null,
   "metadata": {},
   "outputs": [],
   "source": []
  },
  {
   "cell_type": "code",
   "execution_count": null,
   "metadata": {},
   "outputs": [],
   "source": []
  },
  {
   "cell_type": "code",
   "execution_count": null,
   "metadata": {},
   "outputs": [],
   "source": []
  },
  {
   "cell_type": "code",
   "execution_count": null,
   "metadata": {},
   "outputs": [],
   "source": []
  },
  {
   "cell_type": "code",
   "execution_count": null,
   "metadata": {},
   "outputs": [],
   "source": []
  },
  {
   "cell_type": "code",
   "execution_count": null,
   "metadata": {},
   "outputs": [],
   "source": []
  },
  {
   "cell_type": "code",
   "execution_count": null,
   "metadata": {},
   "outputs": [],
   "source": []
  },
  {
   "cell_type": "code",
   "execution_count": null,
   "metadata": {},
   "outputs": [],
   "source": []
  },
  {
   "cell_type": "code",
   "execution_count": null,
   "metadata": {},
   "outputs": [],
   "source": []
  },
  {
   "cell_type": "code",
   "execution_count": null,
   "metadata": {},
   "outputs": [],
   "source": []
  },
  {
   "cell_type": "code",
   "execution_count": null,
   "metadata": {},
   "outputs": [],
   "source": []
  },
  {
   "cell_type": "code",
   "execution_count": null,
   "metadata": {},
   "outputs": [],
   "source": []
  },
  {
   "cell_type": "code",
   "execution_count": null,
   "metadata": {},
   "outputs": [],
   "source": []
  },
  {
   "cell_type": "code",
   "execution_count": null,
   "metadata": {},
   "outputs": [],
   "source": [
    "# combine all the job titles into a string\n",
    "job_title_str=' '.join([x for x in ds_df['Job_Title']])\n",
    "job_title_str = job_title_str.lower()\n",
    "tokens = nltk.word_tokenize(job_title_str)\n",
    "tokens=[x.lower() for x in tokens]\n",
    "tokens\n",
    "# from nltk.probability import FreqDist\n",
    "fdist = FreqDist(tokens)\n",
    "tops=fdist.most_common(100)\n",
    "\n",
    "# drop single word or symbol\n",
    "delarr=[]\n",
    "for key in fdist:\n",
    "    if len(key)<2:\n",
    "        delarr.append(key)\n",
    "for key in delarr:\n",
    "    del fdist[key]\n",
    "    \n",
    "tops=fdist.most_common(100)\n",
    "pprint.pprint(tops)\n",
    "# re.I ==> ignore case\n",
    "pos_lead=re.compile(r'lead|principal|iii|iv',re.I)\n",
    "pos_sr=re.compile(r'senior|sr.|sr|ii',re.I)\n",
    "pos_jr=re.compile(r'junior|jr|jr.|entry|i',re.I)\n",
    "def job_title(row):\n",
    "    if re.match(pos_lead,row['Job_Title']):\n",
    "        return 'Lead'\n",
    "    elif re.match(pos_sr,row['Job_Title']):\n",
    "        return 'Senior'\n",
    "    elif re.match(pos_jr,row['Job_Title']):\n",
    "        return 'Junior'\n",
    "    else:\n",
    "        return 'regular'\n",
    "    \n",
    "ds_df['Job_Level']=ds_df.apply(job_title,axis=1)\n",
    "ds_df.head()"
   ]
  }
 ],
 "metadata": {
  "kernelspec": {
   "display_name": "Python [conda env:PythonData] *",
   "language": "python",
   "name": "conda-env-PythonData-py"
  },
  "language_info": {
   "codemirror_mode": {
    "name": "ipython",
    "version": 3
   },
   "file_extension": ".py",
   "mimetype": "text/x-python",
   "name": "python",
   "nbconvert_exporter": "python",
   "pygments_lexer": "ipython3",
   "version": "3.8.3"
  }
 },
 "nbformat": 4,
 "nbformat_minor": 4
}
