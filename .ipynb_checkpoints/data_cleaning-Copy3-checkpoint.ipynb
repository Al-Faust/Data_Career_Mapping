{
 "cells": [
  {
   "cell_type": "code",
   "execution_count": 40,
   "metadata": {},
   "outputs": [],
   "source": [
    "import numpy as np\n",
    "import pandas as pd\n",
    "import sys\n",
    "import re\n",
    "import matplotlib.pyplot as plt\n",
    "import seaborn as sns\n",
    "import pprint\n",
    "from nltk.tokenize import word_tokenize\n",
    "from nltk.stem import WordNetLemmatizer\n",
    "import string\n",
    "from wordcloud import WordCloud\n",
    "from sklearn.feature_extraction import text"
   ]
  },
  {
   "cell_type": "code",
   "execution_count": 3,
   "metadata": {},
   "outputs": [],
   "source": [
    "ds_df = pd.read_csv('ds.csv')"
   ]
  },
  {
   "cell_type": "code",
   "execution_count": 4,
   "metadata": {},
   "outputs": [
    {
     "name": "stdout",
     "output_type": "stream",
     "text": [
      "(1000, 12)\n",
      "Index(['Job Title', 'Salary Estimate', 'Job Description', 'Rating',\n",
      "       'Company Name', 'Location', 'Size', 'Founded', 'Type of ownership',\n",
      "       'Industry', 'Sector', 'Revenue'],\n",
      "      dtype='object')\n"
     ]
    }
   ],
   "source": [
    "print(ds_df.shape)\n",
    "print(ds_df.columns)"
   ]
  },
  {
   "cell_type": "markdown",
   "metadata": {},
   "source": [
    "#### Rename Columns"
   ]
  },
  {
   "cell_type": "code",
   "execution_count": 5,
   "metadata": {},
   "outputs": [
    {
     "data": {
      "text/plain": [
       "Index(['Job_Title', 'Salary_Estimate', 'Job_Description', 'Rating',\n",
       "       'Company_Name', 'Location', 'Size', 'Founded', 'Type_of_ownership',\n",
       "       'Industry', 'Sector', 'Revenue'],\n",
       "      dtype='object')"
      ]
     },
     "execution_count": 5,
     "metadata": {},
     "output_type": "execute_result"
    }
   ],
   "source": [
    "ds_df.columns = ds_df.columns.str.replace(' ', '_')\n",
    "ds_df.columns"
   ]
  },
  {
   "cell_type": "code",
   "execution_count": 6,
   "metadata": {},
   "outputs": [
    {
     "data": {
      "text/html": [
       "<div>\n",
       "<style scoped>\n",
       "    .dataframe tbody tr th:only-of-type {\n",
       "        vertical-align: middle;\n",
       "    }\n",
       "\n",
       "    .dataframe tbody tr th {\n",
       "        vertical-align: top;\n",
       "    }\n",
       "\n",
       "    .dataframe thead th {\n",
       "        text-align: right;\n",
       "    }\n",
       "</style>\n",
       "<table border=\"1\" class=\"dataframe\">\n",
       "  <thead>\n",
       "    <tr style=\"text-align: right;\">\n",
       "      <th></th>\n",
       "      <th>Job_Title</th>\n",
       "      <th>Salary_Estimate</th>\n",
       "      <th>Job_Description</th>\n",
       "      <th>Rating</th>\n",
       "      <th>Company_Name</th>\n",
       "      <th>Location</th>\n",
       "      <th>Size</th>\n",
       "      <th>Founded</th>\n",
       "      <th>Type_of_ownership</th>\n",
       "      <th>Industry</th>\n",
       "      <th>Sector</th>\n",
       "      <th>Revenue</th>\n",
       "    </tr>\n",
       "  </thead>\n",
       "  <tbody>\n",
       "    <tr>\n",
       "      <th>0</th>\n",
       "      <td>Data Scientist, Machine Learning</td>\n",
       "      <td>$48K-$79K\\n(Glassdoor est.)</td>\n",
       "      <td>Job Description\\n\\nAt Shipt, we are transformi...</td>\n",
       "      <td>3.4</td>\n",
       "      <td>Shipt\\n3.4</td>\n",
       "      <td>Birmingham, AL</td>\n",
       "      <td>1001 to 5000 Employees</td>\n",
       "      <td>2014</td>\n",
       "      <td>Subsidiary or Business Segment</td>\n",
       "      <td>Consumer Product Rental</td>\n",
       "      <td>Consumer Services</td>\n",
       "      <td>Unknown / Non-Applicable</td>\n",
       "    </tr>\n",
       "    <tr>\n",
       "      <th>1</th>\n",
       "      <td>Data Scientist</td>\n",
       "      <td>$78K-$133K\\n(Glassdoor est.)</td>\n",
       "      <td>Publishers Clearing House (PCH), located in Je...</td>\n",
       "      <td>3.4</td>\n",
       "      <td>Publishers Clearing House\\n3.4</td>\n",
       "      <td>Jericho, NY</td>\n",
       "      <td>501 to 1000 Employees</td>\n",
       "      <td>1953</td>\n",
       "      <td>Company - Private</td>\n",
       "      <td>Advertising &amp; Marketing</td>\n",
       "      <td>Business Services</td>\n",
       "      <td>$500 million to $1 billion (USD)</td>\n",
       "    </tr>\n",
       "    <tr>\n",
       "      <th>2</th>\n",
       "      <td>Data Engineer</td>\n",
       "      <td>$72K-$135K\\n(Glassdoor est.)</td>\n",
       "      <td>About The Role:\\n\\nARC is searching for a Data...</td>\n",
       "      <td>3.9</td>\n",
       "      <td>Airlines Reporting Corporation (ARC)\\n3.9</td>\n",
       "      <td>Arlington, VA</td>\n",
       "      <td>201 to 500 Employees</td>\n",
       "      <td>1984</td>\n",
       "      <td>Company - Private</td>\n",
       "      <td>Financial Transaction Processing</td>\n",
       "      <td>Finance</td>\n",
       "      <td>$100 to $500 million (USD)</td>\n",
       "    </tr>\n",
       "    <tr>\n",
       "      <th>3</th>\n",
       "      <td>Sr. Data Scientist</td>\n",
       "      <td>$71K-$118K\\n(Glassdoor est.)</td>\n",
       "      <td>Overview:\\n\\nMedifast is seeking a full-time S...</td>\n",
       "      <td>2.9</td>\n",
       "      <td>Medifast, Inc.\\n2.9</td>\n",
       "      <td>Baltimore, MD</td>\n",
       "      <td>501 to 1000 Employees</td>\n",
       "      <td>1980</td>\n",
       "      <td>Company - Public</td>\n",
       "      <td>Health, Beauty, &amp; Fitness</td>\n",
       "      <td>Consumer Services</td>\n",
       "      <td>$500 million to $1 billion (USD)</td>\n",
       "    </tr>\n",
       "    <tr>\n",
       "      <th>4</th>\n",
       "      <td>Data Scientist</td>\n",
       "      <td>-1</td>\n",
       "      <td>Job Description:\\n\\nOur Advanced Data Analytic...</td>\n",
       "      <td>3.0</td>\n",
       "      <td>Metron, Inc.\\n3.0</td>\n",
       "      <td>Reston, VA</td>\n",
       "      <td>51 to 200 Employees</td>\n",
       "      <td>-1</td>\n",
       "      <td>Company - Private</td>\n",
       "      <td>Electrical &amp; Electronic Manufacturing</td>\n",
       "      <td>Manufacturing</td>\n",
       "      <td>$25 to $50 million (USD)</td>\n",
       "    </tr>\n",
       "  </tbody>\n",
       "</table>\n",
       "</div>"
      ],
      "text/plain": [
       "                          Job_Title               Salary_Estimate  \\\n",
       "0  Data Scientist, Machine Learning   $48K-$79K\\n(Glassdoor est.)   \n",
       "1                    Data Scientist  $78K-$133K\\n(Glassdoor est.)   \n",
       "2                     Data Engineer  $72K-$135K\\n(Glassdoor est.)   \n",
       "3                Sr. Data Scientist  $71K-$118K\\n(Glassdoor est.)   \n",
       "4                    Data Scientist                            -1   \n",
       "\n",
       "                                     Job_Description  Rating  \\\n",
       "0  Job Description\\n\\nAt Shipt, we are transformi...     3.4   \n",
       "1  Publishers Clearing House (PCH), located in Je...     3.4   \n",
       "2  About The Role:\\n\\nARC is searching for a Data...     3.9   \n",
       "3  Overview:\\n\\nMedifast is seeking a full-time S...     2.9   \n",
       "4  Job Description:\\n\\nOur Advanced Data Analytic...     3.0   \n",
       "\n",
       "                                Company_Name        Location  \\\n",
       "0                                 Shipt\\n3.4  Birmingham, AL   \n",
       "1             Publishers Clearing House\\n3.4     Jericho, NY   \n",
       "2  Airlines Reporting Corporation (ARC)\\n3.9   Arlington, VA   \n",
       "3                        Medifast, Inc.\\n2.9   Baltimore, MD   \n",
       "4                          Metron, Inc.\\n3.0      Reston, VA   \n",
       "\n",
       "                     Size  Founded               Type_of_ownership  \\\n",
       "0  1001 to 5000 Employees     2014  Subsidiary or Business Segment   \n",
       "1   501 to 1000 Employees     1953               Company - Private   \n",
       "2    201 to 500 Employees     1984               Company - Private   \n",
       "3   501 to 1000 Employees     1980                Company - Public   \n",
       "4     51 to 200 Employees       -1               Company - Private   \n",
       "\n",
       "                                Industry             Sector  \\\n",
       "0                Consumer Product Rental  Consumer Services   \n",
       "1                Advertising & Marketing  Business Services   \n",
       "2       Financial Transaction Processing            Finance   \n",
       "3              Health, Beauty, & Fitness  Consumer Services   \n",
       "4  Electrical & Electronic Manufacturing      Manufacturing   \n",
       "\n",
       "                            Revenue  \n",
       "0          Unknown / Non-Applicable  \n",
       "1  $500 million to $1 billion (USD)  \n",
       "2        $100 to $500 million (USD)  \n",
       "3  $500 million to $1 billion (USD)  \n",
       "4          $25 to $50 million (USD)  "
      ]
     },
     "execution_count": 6,
     "metadata": {},
     "output_type": "execute_result"
    }
   ],
   "source": [
    "ds_df.head()"
   ]
  },
  {
   "cell_type": "markdown",
   "metadata": {},
   "source": [
    "#### Cleanup Salary_Estimate data\n",
    "- Drop the rows that do not have salary estimate\n",
    "- Remove additional text attached to salary value"
   ]
  },
  {
   "cell_type": "code",
   "execution_count": 7,
   "metadata": {},
   "outputs": [
    {
     "name": "stdout",
     "output_type": "stream",
     "text": [
      "(737, 12)\n"
     ]
    }
   ],
   "source": [
    "# Drop the rows that do not have salary estimate\n",
    "ds_df = ds_df[ds_df['Salary_Estimate'] != '-1']\n",
    "print(ds_df.shape)"
   ]
  },
  {
   "cell_type": "code",
   "execution_count": 8,
   "metadata": {},
   "outputs": [],
   "source": [
    "ds_df['Salary_Estimate'] = ds_df['Salary_Estimate'].str.replace('Employer Provided Salary:\\n', '')\n",
    "#ds_df"
   ]
  },
  {
   "cell_type": "code",
   "execution_count": 9,
   "metadata": {},
   "outputs": [],
   "source": [
    "# remove additional text\n",
    "ds_df['Salary_Estimate'] = ds_df['Salary_Estimate'].apply(lambda x: x.split('\\n')[0])"
   ]
  },
  {
   "cell_type": "code",
   "execution_count": 10,
   "metadata": {},
   "outputs": [
    {
     "data": {
      "text/html": [
       "<div>\n",
       "<style scoped>\n",
       "    .dataframe tbody tr th:only-of-type {\n",
       "        vertical-align: middle;\n",
       "    }\n",
       "\n",
       "    .dataframe tbody tr th {\n",
       "        vertical-align: top;\n",
       "    }\n",
       "\n",
       "    .dataframe thead th {\n",
       "        text-align: right;\n",
       "    }\n",
       "</style>\n",
       "<table border=\"1\" class=\"dataframe\">\n",
       "  <thead>\n",
       "    <tr style=\"text-align: right;\">\n",
       "      <th></th>\n",
       "      <th>Job_Title</th>\n",
       "      <th>Salary_Estimate</th>\n",
       "      <th>Job_Description</th>\n",
       "      <th>Rating</th>\n",
       "      <th>Company_Name</th>\n",
       "      <th>Location</th>\n",
       "      <th>Size</th>\n",
       "      <th>Founded</th>\n",
       "      <th>Type_of_ownership</th>\n",
       "      <th>Industry</th>\n",
       "      <th>Sector</th>\n",
       "      <th>Revenue</th>\n",
       "    </tr>\n",
       "  </thead>\n",
       "  <tbody>\n",
       "    <tr>\n",
       "      <th>591</th>\n",
       "      <td>Research Lab Specialist or Staff Scientist</td>\n",
       "      <td>$17-$36 Per Hour</td>\n",
       "      <td>With resources to help you succeed and develop...</td>\n",
       "      <td>4.7</td>\n",
       "      <td>St. Jude Children's Research Hospital\\n4.7</td>\n",
       "      <td>Raleigh, NC</td>\n",
       "      <td>1001 to 5000 Employees</td>\n",
       "      <td>1962</td>\n",
       "      <td>Nonprofit Organization</td>\n",
       "      <td>Health Care Services &amp; Hospitals</td>\n",
       "      <td>Health Care</td>\n",
       "      <td>$1 to $2 billion (USD)</td>\n",
       "    </tr>\n",
       "  </tbody>\n",
       "</table>\n",
       "</div>"
      ],
      "text/plain": [
       "                                      Job_Title   Salary_Estimate  \\\n",
       "591  Research Lab Specialist or Staff Scientist  $17-$36 Per Hour   \n",
       "\n",
       "                                       Job_Description  Rating  \\\n",
       "591  With resources to help you succeed and develop...     4.7   \n",
       "\n",
       "                                   Company_Name     Location  \\\n",
       "591  St. Jude Children's Research Hospital\\n4.7  Raleigh, NC   \n",
       "\n",
       "                       Size  Founded       Type_of_ownership  \\\n",
       "591  1001 to 5000 Employees     1962  Nonprofit Organization   \n",
       "\n",
       "                             Industry       Sector                 Revenue  \n",
       "591  Health Care Services & Hospitals  Health Care  $1 to $2 billion (USD)  "
      ]
     },
     "execution_count": 10,
     "metadata": {},
     "output_type": "execute_result"
    }
   ],
   "source": [
    "ds_df[ds_df['Salary_Estimate'].str.contains(\"Per Hour\")]"
   ]
  },
  {
   "cell_type": "code",
   "execution_count": 11,
   "metadata": {},
   "outputs": [],
   "source": [
    "ds_df['hourly'] = ds_df['Salary_Estimate'].apply(lambda x: 1 if 'per hour' in x.lower() else 0)"
   ]
  },
  {
   "cell_type": "code",
   "execution_count": 12,
   "metadata": {},
   "outputs": [],
   "source": [
    "ds_df['Salary_Estimate'] = ds_df['Salary_Estimate'].str.replace('Per Hour', '').str.replace('K', \"\").str.replace('$', '')"
   ]
  },
  {
   "cell_type": "code",
   "execution_count": 13,
   "metadata": {},
   "outputs": [],
   "source": [
    "ds_df['Salary_Estimate'] = ds_df['Salary_Estimate'].str.replace('K', \"\").str.replace('$', '')"
   ]
  },
  {
   "cell_type": "code",
   "execution_count": 14,
   "metadata": {},
   "outputs": [],
   "source": [
    "ds_df['min_salary'] = ds_df['Salary_Estimate'].apply(lambda x: int(x.split('-')[0]))\n",
    "ds_df['max_salary'] = ds_df['Salary_Estimate'].apply(lambda x: int(x.split('-')[1]))"
   ]
  },
  {
   "cell_type": "code",
   "execution_count": 15,
   "metadata": {},
   "outputs": [],
   "source": [
    "# Hourly pay to annual conversion\n",
    "ds_df['min_salary'] = ds_df.apply(lambda x: x.min_salary*2 if x.hourly ==1 else x.min_salary, axis =1)\n",
    "ds_df['max_salary'] = ds_df.apply(lambda x: x.max_salary*2 if x.hourly ==1 else x.max_salary, axis =1)"
   ]
  },
  {
   "cell_type": "code",
   "execution_count": 16,
   "metadata": {},
   "outputs": [],
   "source": [
    "ds_df['avg_salary'] = (ds_df.min_salary + ds_df.max_salary)/2"
   ]
  },
  {
   "cell_type": "code",
   "execution_count": 17,
   "metadata": {},
   "outputs": [],
   "source": [
    "ds_df['Company_Name'] = ds_df['Company_Name'].apply(lambda x: x.split('\\n')[0])"
   ]
  },
  {
   "cell_type": "code",
   "execution_count": 18,
   "metadata": {},
   "outputs": [],
   "source": [
    "ds_df['City'] = ds_df['Location'].apply(lambda x: x.split(',')[0])\n",
    "ds_df['State'] = ds_df['Location'].apply(lambda x: x.split(',')[1])"
   ]
  },
  {
   "cell_type": "code",
   "execution_count": 19,
   "metadata": {},
   "outputs": [],
   "source": [
    "ds_df['Years_Old'] = ds_df.Founded.apply(lambda x: x if x < 0 else 2020 - x)"
   ]
  },
  {
   "cell_type": "code",
   "execution_count": 26,
   "metadata": {},
   "outputs": [
    {
     "data": {
      "text/html": [
       "<div>\n",
       "<style scoped>\n",
       "    .dataframe tbody tr th:only-of-type {\n",
       "        vertical-align: middle;\n",
       "    }\n",
       "\n",
       "    .dataframe tbody tr th {\n",
       "        vertical-align: top;\n",
       "    }\n",
       "\n",
       "    .dataframe thead th {\n",
       "        text-align: right;\n",
       "    }\n",
       "</style>\n",
       "<table border=\"1\" class=\"dataframe\">\n",
       "  <thead>\n",
       "    <tr style=\"text-align: right;\">\n",
       "      <th></th>\n",
       "      <th>Job_Title</th>\n",
       "      <th>Salary_Estimate</th>\n",
       "      <th>Job_Description</th>\n",
       "      <th>Rating</th>\n",
       "      <th>Company_Name</th>\n",
       "      <th>Location</th>\n",
       "      <th>Size</th>\n",
       "      <th>Founded</th>\n",
       "      <th>Type_of_ownership</th>\n",
       "      <th>Industry</th>\n",
       "      <th>Sector</th>\n",
       "      <th>Revenue</th>\n",
       "      <th>hourly</th>\n",
       "      <th>min_salary</th>\n",
       "      <th>max_salary</th>\n",
       "      <th>avg_salary</th>\n",
       "      <th>City</th>\n",
       "      <th>State</th>\n",
       "      <th>Years_Old</th>\n",
       "    </tr>\n",
       "  </thead>\n",
       "  <tbody>\n",
       "    <tr>\n",
       "      <th>0</th>\n",
       "      <td>Data Scientist</td>\n",
       "      <td>48-79</td>\n",
       "      <td>Job Description\\n\\nAt Shipt, we are transformi...</td>\n",
       "      <td>3.4</td>\n",
       "      <td>Shipt</td>\n",
       "      <td>Birmingham, AL</td>\n",
       "      <td>1001 to 5000 Employees</td>\n",
       "      <td>2014</td>\n",
       "      <td>Subsidiary or Business Segment</td>\n",
       "      <td>Consumer Product Rental</td>\n",
       "      <td>Consumer Services</td>\n",
       "      <td>Unknown / Non-Applicable</td>\n",
       "      <td>0</td>\n",
       "      <td>48</td>\n",
       "      <td>79</td>\n",
       "      <td>63.5</td>\n",
       "      <td>Birmingham</td>\n",
       "      <td>AL</td>\n",
       "      <td>6</td>\n",
       "    </tr>\n",
       "    <tr>\n",
       "      <th>1</th>\n",
       "      <td>Data Scientist</td>\n",
       "      <td>78-133</td>\n",
       "      <td>Publishers Clearing House (PCH), located in Je...</td>\n",
       "      <td>3.4</td>\n",
       "      <td>Publishers Clearing House</td>\n",
       "      <td>Jericho, NY</td>\n",
       "      <td>501 to 1000 Employees</td>\n",
       "      <td>1953</td>\n",
       "      <td>Company - Private</td>\n",
       "      <td>Advertising &amp; Marketing</td>\n",
       "      <td>Business Services</td>\n",
       "      <td>$500 million to $1 billion (USD)</td>\n",
       "      <td>0</td>\n",
       "      <td>78</td>\n",
       "      <td>133</td>\n",
       "      <td>105.5</td>\n",
       "      <td>Jericho</td>\n",
       "      <td>NY</td>\n",
       "      <td>67</td>\n",
       "    </tr>\n",
       "    <tr>\n",
       "      <th>2</th>\n",
       "      <td>Machine Learning Engineer</td>\n",
       "      <td>72-135</td>\n",
       "      <td>About The Role:\\n\\nARC is searching for a Data...</td>\n",
       "      <td>3.9</td>\n",
       "      <td>Airlines Reporting Corporation (ARC)</td>\n",
       "      <td>Arlington, VA</td>\n",
       "      <td>201 to 500 Employees</td>\n",
       "      <td>1984</td>\n",
       "      <td>Company - Private</td>\n",
       "      <td>Financial Transaction Processing</td>\n",
       "      <td>Finance</td>\n",
       "      <td>$100 to $500 million (USD)</td>\n",
       "      <td>0</td>\n",
       "      <td>72</td>\n",
       "      <td>135</td>\n",
       "      <td>103.5</td>\n",
       "      <td>Arlington</td>\n",
       "      <td>VA</td>\n",
       "      <td>36</td>\n",
       "    </tr>\n",
       "    <tr>\n",
       "      <th>3</th>\n",
       "      <td>Data Scientist</td>\n",
       "      <td>71-118</td>\n",
       "      <td>Overview:\\n\\nMedifast is seeking a full-time S...</td>\n",
       "      <td>2.9</td>\n",
       "      <td>Medifast, Inc.</td>\n",
       "      <td>Baltimore, MD</td>\n",
       "      <td>501 to 1000 Employees</td>\n",
       "      <td>1980</td>\n",
       "      <td>Company - Public</td>\n",
       "      <td>Health, Beauty, &amp; Fitness</td>\n",
       "      <td>Consumer Services</td>\n",
       "      <td>$500 million to $1 billion (USD)</td>\n",
       "      <td>0</td>\n",
       "      <td>71</td>\n",
       "      <td>118</td>\n",
       "      <td>94.5</td>\n",
       "      <td>Baltimore</td>\n",
       "      <td>MD</td>\n",
       "      <td>40</td>\n",
       "    </tr>\n",
       "    <tr>\n",
       "      <th>5</th>\n",
       "      <td>Data Analyst</td>\n",
       "      <td>35-70</td>\n",
       "      <td>Data Specialist\\n\\nJob Summary\\n\\nWe are on th...</td>\n",
       "      <td>4.9</td>\n",
       "      <td>Marxent</td>\n",
       "      <td>Miamisburg, OH</td>\n",
       "      <td>51 to 200 Employees</td>\n",
       "      <td>2011</td>\n",
       "      <td>Company - Private</td>\n",
       "      <td>Computer Hardware &amp; Software</td>\n",
       "      <td>Information Technology</td>\n",
       "      <td>Unknown / Non-Applicable</td>\n",
       "      <td>0</td>\n",
       "      <td>35</td>\n",
       "      <td>70</td>\n",
       "      <td>52.5</td>\n",
       "      <td>Miamisburg</td>\n",
       "      <td>OH</td>\n",
       "      <td>9</td>\n",
       "    </tr>\n",
       "  </tbody>\n",
       "</table>\n",
       "</div>"
      ],
      "text/plain": [
       "                   Job_Title Salary_Estimate  \\\n",
       "0             Data Scientist           48-79   \n",
       "1             Data Scientist          78-133   \n",
       "2  Machine Learning Engineer          72-135   \n",
       "3             Data Scientist          71-118   \n",
       "5               Data Analyst           35-70   \n",
       "\n",
       "                                     Job_Description  Rating  \\\n",
       "0  Job Description\\n\\nAt Shipt, we are transformi...     3.4   \n",
       "1  Publishers Clearing House (PCH), located in Je...     3.4   \n",
       "2  About The Role:\\n\\nARC is searching for a Data...     3.9   \n",
       "3  Overview:\\n\\nMedifast is seeking a full-time S...     2.9   \n",
       "5  Data Specialist\\n\\nJob Summary\\n\\nWe are on th...     4.9   \n",
       "\n",
       "                           Company_Name        Location  \\\n",
       "0                                 Shipt  Birmingham, AL   \n",
       "1             Publishers Clearing House     Jericho, NY   \n",
       "2  Airlines Reporting Corporation (ARC)   Arlington, VA   \n",
       "3                        Medifast, Inc.   Baltimore, MD   \n",
       "5                               Marxent  Miamisburg, OH   \n",
       "\n",
       "                     Size  Founded               Type_of_ownership  \\\n",
       "0  1001 to 5000 Employees     2014  Subsidiary or Business Segment   \n",
       "1   501 to 1000 Employees     1953               Company - Private   \n",
       "2    201 to 500 Employees     1984               Company - Private   \n",
       "3   501 to 1000 Employees     1980                Company - Public   \n",
       "5     51 to 200 Employees     2011               Company - Private   \n",
       "\n",
       "                           Industry                  Sector  \\\n",
       "0           Consumer Product Rental       Consumer Services   \n",
       "1           Advertising & Marketing       Business Services   \n",
       "2  Financial Transaction Processing                 Finance   \n",
       "3         Health, Beauty, & Fitness       Consumer Services   \n",
       "5      Computer Hardware & Software  Information Technology   \n",
       "\n",
       "                            Revenue  hourly  min_salary  max_salary  \\\n",
       "0          Unknown / Non-Applicable       0          48          79   \n",
       "1  $500 million to $1 billion (USD)       0          78         133   \n",
       "2        $100 to $500 million (USD)       0          72         135   \n",
       "3  $500 million to $1 billion (USD)       0          71         118   \n",
       "5          Unknown / Non-Applicable       0          35          70   \n",
       "\n",
       "   avg_salary        City State  Years_Old  \n",
       "0        63.5  Birmingham    AL          6  \n",
       "1       105.5     Jericho    NY         67  \n",
       "2       103.5   Arlington    VA         36  \n",
       "3        94.5   Baltimore    MD         40  \n",
       "5        52.5  Miamisburg    OH          9  "
      ]
     },
     "execution_count": 26,
     "metadata": {},
     "output_type": "execute_result"
    }
   ],
   "source": [
    "data = ds_df.copy()\n",
    "data['Job_Title']=[x.upper() for x in data['Job_Title']]\n",
    "data.loc[data.Job_Title.str.contains(\"SCIENTIST\"), 'Job_Title'] = 'Data Scientist'\n",
    "\n",
    "data.loc[data.Job_Title.str.contains('ENGINEER'),'Job_Title']='Machine Learning Engineer'\n",
    "data.loc[data.Job_Title.str.contains('PRINCIPAL STATISTICAL PROGRAMMER'),'Job_Title']='Machine Learning Engineer'\n",
    "data.loc[data.Job_Title.str.contains('PROGRAMMER'),'Job_Title']='Machine Learning Engineer'\n",
    "data.loc[data.Job_Title.str.contains('DEVELOPER'),'Job_Title']='Machine Learning Engineer'\n",
    "\n",
    "data.loc[data.Job_Title.str.contains('ANALYST'), 'Job_Title'] = 'Data Analyst'\n",
    "data.loc[data.Job_Title.str.contains('STATISTICIAN'), 'Job_Title'] = 'Data Analyst'\n",
    "\n",
    "data.loc[data.Job_Title.str.contains('MANAGER'),'Job_Title']='Data Science Manager'\n",
    "data.loc[data.Job_Title.str.contains('CONSULTANT'),'Job_Title']='Data Science Manager'\n",
    "data.loc[data.Job_Title.str.contains('DATA SCIENCE'),'Job_Title']='Data Science Manager'\n",
    "data.loc[data.Job_Title.str.contains('DIRECTOR'),'Job_Title']='Data Science Manager'\n",
    "\n",
    "data.Job_Title=data[(data.Job_Title == 'Data Scientist') | (data.Job_Title == 'Data Analyst') | (data.Job_Title == 'Machine Learning Engineer') | (data.Job_Title == 'Data Science Manager')]\n",
    "data.Job_Title=['Others' if x is np.nan else x for x in data.Job_Title]\n",
    "data.head()"
   ]
  },
  {
   "cell_type": "code",
   "execution_count": 27,
   "metadata": {},
   "outputs": [
    {
     "data": {
      "image/png": "[encoded data removed]",
      "text/plain": [
       "<Figure size 720x360 with 1 Axes>"
      ]
     },
     "metadata": {
      "needs_background": "light"
     },
     "output_type": "display_data"
    }
   ],
   "source": [
    "title = data.groupby(['Job_Title']).count().sort_values('Company_Name')\n",
    "\n",
    "title['Company_Name'].plot(kind='barh',figsize = (10,5))\n",
    "plt.xlabel('Count', size = 12)\n",
    "plt.ylabel('')\n",
    "plt.yticks(size = 10)\n",
    "plt.xticks(size = 10)\n",
    "plt.title('Number of Positions by Job Title', size = 20)\n",
    "plt.show()"
   ]
  },
  {
   "cell_type": "code",
   "execution_count": 29,
   "metadata": {},
   "outputs": [
    {
     "data": {
      "image/png": "[encoded data removed]",
      "text/plain": [
       "<Figure size 720x360 with 1 Axes>"
      ]
     },
     "metadata": {
      "needs_background": "light"
     },
     "output_type": "display_data"
    }
   ],
   "source": [
    "company = ds_df.groupby(['Company_Name']).count().sort_values('Job_Title').tail(20)\n",
    "\n",
    "company['Job_Title'].plot(kind='barh',figsize = (10,5))\n",
    "plt.xlabel('Count', size = 12)\n",
    "plt.ylabel('')\n",
    "plt.yticks(size = 10)\n",
    "plt.xticks(size = 10)\n",
    "plt.title('Number of Positions by Companies (Top 20)', size = 20)\n",
    "plt.show()"
   ]
  },
  {
   "cell_type": "code",
   "execution_count": 30,
   "metadata": {},
   "outputs": [
    {
     "data": {
      "image/png": "[encoded data removed]",
      "text/plain": [
       "<Figure size 720x360 with 1 Axes>"
      ]
     },
     "metadata": {
      "needs_background": "light"
     },
     "output_type": "display_data"
    }
   ],
   "source": [
    "city = ds_df.groupby(['Location']).count().sort_values('Job_Title').tail(20)\n",
    "\n",
    "city['Job_Title'].plot(kind='barh',figsize = (10,5))\n",
    "plt.xlabel('Count', size = 12)\n",
    "plt.ylabel('')\n",
    "plt.yticks(size = 10)\n",
    "plt.xticks(size = 10)\n",
    "plt.title('Number of Positions by Cities (Top 20)', size = 20)\n",
    "plt.show()"
   ]
  },
  {
   "cell_type": "code",
   "execution_count": 31,
   "metadata": {},
   "outputs": [
    {
     "data": {
      "image/png": "[encoded data removed]",
      "text/plain": [
       "<Figure size 720x360 with 1 Axes>"
      ]
     },
     "metadata": {
      "needs_background": "light"
     },
     "output_type": "display_data"
    }
   ],
   "source": [
    "state = ds_df.groupby('State').count().sort_values('Job_Title',ascending = False)\n",
    "\n",
    "state['Job_Title'].plot(kind = 'bar',figsize = (10,5) ,width = 0.85)\n",
    "plt.xlabel('')\n",
    "plt.ylabel('Count',size = 12)\n",
    "plt.title('Number of Positions by State', size = 20)\n",
    "plt.yticks(size = 10)\n",
    "plt.xticks(size = 10, rotation = 720)\n",
    "plt.show()"
   ]
  },
  {
   "cell_type": "code",
   "execution_count": 32,
   "metadata": {},
   "outputs": [
    {
     "data": {
      "image/png": "[encoded data removed]",
      "text/plain": [
       "<Figure size 1440x720 with 4 Axes>"
      ]
     },
     "metadata": {
      "needs_background": "light"
     },
     "output_type": "display_data"
    }
   ],
   "source": [
    "data = data[data['Job_Title'] != 'Others']\n",
    "i = 1\n",
    "color = ['#A92420','#8A6FDF','#135390','#FDA649']\n",
    "fig = plt.figure(figsize=(20,10))\n",
    "for title in data.Job_Title.unique():\n",
    "    x = data[data['Job_Title']== str(title)].groupby(['State']).count().sort_values('Company_Name')\n",
    "    plt.subplot(2, 2, i)\n",
    "    i += 1\n",
    "    plt.bar(x.index,x['Company_Name'], color = color[i-2])\n",
    "    plt.xlabel('')\n",
    "    plt.xticks(size = 10)\n",
    "    plt.title(str(title), size = 15)\n",
    "plt.show()"
   ]
  },
  {
   "cell_type": "markdown",
   "metadata": {},
   "source": [
    "#### Job Description Analysis"
   ]
  },
  {
   "cell_type": "code",
   "execution_count": 34,
   "metadata": {},
   "outputs": [
    {
     "name": "stdout",
     "output_type": "stream",
     "text": [
      "Job Description\n",
      "\n",
      "At Shipt, we are transforming the grocery shopping experience and giving time back to consumers. Shipt shoppers handpick fresh groceries and household essentials, then deliver them to your door in as little as one hour.\n",
      "\n",
      "Shipt is growing and we are searching for a Data Scientist, Machine Learning to join our team! At Shipt, we're using machine learning (ML) and analytics to drive our business forward. We're looking for help understanding our data, optimizing our processes, and making predictions to improve our product and customer experience.\n",
      "\n",
      "The data science team builds data driven solutions using machine learning and modeling techniques. Our solutions include predictive models, clustering, segmentation, complex reporting, and quantitative research. Our ideal candidate will be data-driven, intellectually curious, and a clear communicator with experience building machine learning models.\n",
      "\n",
      "What You'll Gain\n",
      "You will get experience working with a cross-disciplinary team shipping real-world products to our customers around the nation. You will also receive hands-on mentorship from your friendly teammates on topics ranging from design to career advice\n",
      "\n",
      "Your Responsibilities\n",
      "Develop a thorough understanding of our data and interpret them as they relate to shopper behavior, search performance, profitability, and product development\n",
      "Build predictive models and optimization routines to capture opportunities and solve problems. Applications include modeling demand in a given market, delivering search recommendations, and optimizing internal processes\n",
      "Collaborate with other members of the Data Science and engineering teams on ways to approach problems, augment code, and share new techniques\n",
      "Work with functional team leaders (in Product, Operations, Marketing, etc.) to explain your analysis, findings, and recommendations\n",
      "Find opportunities for improvement across the business and assist in decision-making across teams\n",
      "Stay abreast of developments in the field and contribute to its advancement\n",
      "Requirements\n",
      "At least 2 years of experience with machine learning, predictive modeling, and/or optimization techniques\n",
      "High degree of proficiency with one of R or Python\n",
      "Proficiency with SQL\n",
      "Experience with a data visualization tool (Tableau, Chartio, Looker, Spotfire, Power BI, etc.)\n",
      "Experience with cloud computing services or platforms\n",
      "Comfortable giving verbal presentations and communicating with technologies like Zoom and Slack\n",
      "Bachelor's degree in a quantitative field or related experience\n",
      "Nice to Haves\n",
      "Experience deploying predictive models in a cloud environment\n",
      "Experience with batch processing framework\n",
      "Familiarity with AWS, version control, and peer code review systems\n",
      "Familiarity with on-demand and/or multi-sided marketplaces\n",
      "Proficiency in both R and Python\n",
      "We are an equal opportunity employer and value diversity at our company. We do not discriminate on the basis of race, religion, color, national origin, gender, sexual orientation, age, marital status, veteran status, or disability status.\n"
     ]
    }
   ],
   "source": [
    "print(ds_df['Job_Description'][0])"
   ]
  },
  {
   "cell_type": "code",
   "execution_count": 35,
   "metadata": {},
   "outputs": [],
   "source": [
    "# Combine the desciptions by the job tilte\n",
    "data = data.groupby('Job_Title').agg(lambda col: ' '.join(col))\n",
    "data = data[['Job_Description']]"
   ]
  },
  {
   "cell_type": "code",
   "execution_count": 36,
   "metadata": {},
   "outputs": [],
   "source": [
    "# Create a function to clean text data\n",
    "def clean_text(text):\n",
    "    text = re.sub('[%s]' % re.escape(string.punctuation), '', text).lower() #remove punctutations\n",
    "    text = re.sub('\\w*\\d\\w*', '', text)\n",
    "    text = re.sub('[‘’“”…]', '', text)\n",
    "    text = re.sub('\\n',' ',text)\n",
    "    return text"
   ]
  },
  {
   "cell_type": "code",
   "execution_count": 37,
   "metadata": {},
   "outputs": [],
   "source": [
    "# Clean the text data and remove the job title 'Others'\n",
    "clean = lambda x :clean_text(x)\n",
    "df_clean = pd.DataFrame(data.Job_Description.apply(clean))\n",
    "df_clean = df_clean[df_clean.index != 'Others'].copy()"
   ]
  },
  {
   "cell_type": "code",
   "execution_count": 38,
   "metadata": {},
   "outputs": [],
   "source": [
    "# Lemmentize the text data to improve analysis\n",
    "lemmer = WordNetLemmatizer()\n",
    "df_clean['Job_Description'] = df_clean.Job_Description.apply(lambda x: word_tokenize(x))\n",
    "df_clean['Job_Description'] = df_clean.Job_Description.apply(lambda x : [lemmer.lemmatize(y) for y in x])\n",
    "df_clean['Job_Description'] = df_clean.Job_Description.apply(lambda x: ' '.join(x))"
   ]
  },
  {
   "cell_type": "code",
   "execution_count": 41,
   "metadata": {},
   "outputs": [],
   "source": [
    "# Add words that frequently appear in the descriptions but carry no value to the list of stop words\n",
    "\n",
    "extra_stopword = ['data','experience','work','team','will','skill','year','skills']\n",
    "stop_words = text.ENGLISH_STOP_WORDS.union(extra_stopword)"
   ]
  },
  {
   "cell_type": "markdown",
   "metadata": {},
   "source": [
    "#### Years of experience"
   ]
  },
  {
   "cell_type": "code",
   "execution_count": 48,
   "metadata": {},
   "outputs": [
    {
     "name": "stdout",
     "output_type": "stream",
     "text": [
      "2 year\n",
      "At least 2 years of experience with machine learning, predictive modeling, and/or optimization techniques\n",
      "***************************************************************************************************************************\n",
      "5 year\n",
      "2 to 5 years’ experience in building predictive models using SAS Enterprise Guide (EG) , SAS Enterprise Miner or/and Python\n",
      "***************************************************************************************************************************\n",
      "3+ year\n",
      "3+ years of experience with full cycle application development (Full SDLC experience: design, development, delivery, etc.),\n",
      "***************************************************************************************************************************\n",
      "3+ year\n",
      "3+ years of experience implementing modern applications using:\n",
      "***************************************************************************************************************************\n",
      "8 year\n",
      "5-8 years related experience\n",
      "***************************************************************************************************************************\n"
     ]
    }
   ],
   "source": [
    "text = ds_df.Job_Description.values\n",
    "\n",
    "# Print out the first 5 examples of matches\n",
    "limit = 0\n",
    "for t in text:\n",
    "    for sentence in t.split('\\n'):\n",
    "        if 'experience' in sentence:\n",
    "            year = re.findall(\"\\d{1,2}\\+? year\", sentence)\n",
    "            if len(year)==1:\n",
    "                print(year[0])\n",
    "                print(sentence)\n",
    "                print(\"*\"*123)\n",
    "                limit +=1\n",
    "    if limit >= 5:\n",
    "        break"
   ]
  },
  {
   "cell_type": "code",
   "execution_count": 49,
   "metadata": {},
   "outputs": [],
   "source": [
    "# Compile the year value found into a list\n",
    "experience_req = []\n",
    "for t in text:\n",
    "    for sentence in t.split('\\n'):\n",
    "        if 'experience' in sentence:\n",
    "            year = re.findall(\"\\d{1,2}\\+? year\", sentence)\n",
    "            if len(year)==1:\n",
    "                num = year[0].split(' ')\n",
    "                experience_req.append(num[0])\n",
    "\n",
    "# Remove the '+' sign after year value\n",
    "for n,i in enumerate(experience_req):\n",
    "    if \"+\" in i:\n",
    "        experience_req[n] = re.sub(r'\\+','',i)\n",
    "experience_req = [int(item) for item in experience_req]\n",
    "\n",
    "# Remove outliers\n",
    "for n,i in enumerate(experience_req):\n",
    "    if i >= 20:\n",
    "        experience_req.pop(n)"
   ]
  },
  {
   "cell_type": "code",
   "execution_count": 50,
   "metadata": {},
   "outputs": [
    {
     "data": {
      "image/png": "[encoded data removed]",
      "text/plain": [
       "<Figure size 720x360 with 1 Axes>"
      ]
     },
     "metadata": {
      "needs_background": "light"
     },
     "output_type": "display_data"
    },
    {
     "name": "stdout",
     "output_type": "stream",
     "text": [
      "The average year of experience required is 4.05 years\n"
     ]
    }
   ],
   "source": [
    "plt.figure(figsize = (10,5))\n",
    "plt.hist(experience_req,bins = list(range(0,21,2)), align = 'left')\n",
    "plt.title('Experience Required Distribution', size = 15)\n",
    "plt.ylabel('Bin Count')\n",
    "plt.xlabel('Year of Expereience', size = 12)\n",
    "plt.show()\n",
    "print(f'The average year of experience required is {round(np.mean(experience_req),2)} years')"
   ]
  },
  {
   "cell_type": "markdown",
   "metadata": {},
   "source": [
    "#### Skill requirement"
   ]
  },
  {
   "cell_type": "code",
   "execution_count": 51,
   "metadata": {},
   "outputs": [],
   "source": [
    "# Create a regex search function\n",
    "def count_text(patt,text):\n",
    "    pattern = re.compile(patt)\n",
    "    count = 0\n",
    "    for t in text:\n",
    "        if pattern.search(t):\n",
    "            count+=1\n",
    "    return count"
   ]
  },
  {
   "cell_type": "code",
   "execution_count": 52,
   "metadata": {},
   "outputs": [],
   "source": [
    "# Create a data frame with skills name and regex pattern to search with\n",
    "skills = ['R','Python','Hadoop','SQL','Tableau','NoSQL','Power BI','SAS','Hive','Spark', \\\n",
    "          'Java','JavaScript']\n",
    "\n",
    "skill_patt = ['\\WR\\W+\\s*','(?i)\\WPython\\W','(?i)\\WHadoop\\W?','(?i)SQL\\w*','(?i)\\WTableau\\W?',\n",
    "              \"(?i)\\WNoSQL\\W?\",\"(?i)\\WHive\\W?\",\"(?i)\\WPower\\s?BI\\W?\",\n",
    "             \"(?i)\\WSAS\\W?\",\"(?i)\\WSpark?\\W?\",'(?i)Java\\w*','(?i)\\WJavaScript\\W?']\n",
    "\n",
    "skill_df =pd.DataFrame(\n",
    "    {\"skill\": skills,\n",
    "     \"regex_pattern\":skill_patt})"
   ]
  },
  {
   "cell_type": "code",
   "execution_count": 53,
   "metadata": {},
   "outputs": [
    {
     "data": {
      "text/html": [
       "<div>\n",
       "<style scoped>\n",
       "    .dataframe tbody tr th:only-of-type {\n",
       "        vertical-align: middle;\n",
       "    }\n",
       "\n",
       "    .dataframe tbody tr th {\n",
       "        vertical-align: top;\n",
       "    }\n",
       "\n",
       "    .dataframe thead th {\n",
       "        text-align: right;\n",
       "    }\n",
       "</style>\n",
       "<table border=\"1\" class=\"dataframe\">\n",
       "  <thead>\n",
       "    <tr style=\"text-align: right;\">\n",
       "      <th></th>\n",
       "      <th>skill</th>\n",
       "      <th>regex_pattern</th>\n",
       "      <th>count</th>\n",
       "      <th>pct</th>\n",
       "    </tr>\n",
       "  </thead>\n",
       "  <tbody>\n",
       "    <tr>\n",
       "      <th>0</th>\n",
       "      <td>R</td>\n",
       "      <td>\\WR\\W+\\s*</td>\n",
       "      <td>359</td>\n",
       "      <td>0.49</td>\n",
       "    </tr>\n",
       "    <tr>\n",
       "      <th>1</th>\n",
       "      <td>Python</td>\n",
       "      <td>(?i)\\WPython\\W</td>\n",
       "      <td>509</td>\n",
       "      <td>0.69</td>\n",
       "    </tr>\n",
       "    <tr>\n",
       "      <th>2</th>\n",
       "      <td>Hadoop</td>\n",
       "      <td>(?i)\\WHadoop\\W?</td>\n",
       "      <td>123</td>\n",
       "      <td>0.17</td>\n",
       "    </tr>\n",
       "    <tr>\n",
       "      <th>3</th>\n",
       "      <td>SQL</td>\n",
       "      <td>(?i)SQL\\w*</td>\n",
       "      <td>420</td>\n",
       "      <td>0.57</td>\n",
       "    </tr>\n",
       "    <tr>\n",
       "      <th>4</th>\n",
       "      <td>Tableau</td>\n",
       "      <td>(?i)\\WTableau\\W?</td>\n",
       "      <td>182</td>\n",
       "      <td>0.25</td>\n",
       "    </tr>\n",
       "    <tr>\n",
       "      <th>5</th>\n",
       "      <td>NoSQL</td>\n",
       "      <td>(?i)\\WNoSQL\\W?</td>\n",
       "      <td>60</td>\n",
       "      <td>0.08</td>\n",
       "    </tr>\n",
       "    <tr>\n",
       "      <th>6</th>\n",
       "      <td>Power BI</td>\n",
       "      <td>(?i)\\WHive\\W?</td>\n",
       "      <td>81</td>\n",
       "      <td>0.11</td>\n",
       "    </tr>\n",
       "    <tr>\n",
       "      <th>7</th>\n",
       "      <td>SAS</td>\n",
       "      <td>(?i)\\WPower\\s?BI\\W?</td>\n",
       "      <td>70</td>\n",
       "      <td>0.09</td>\n",
       "    </tr>\n",
       "    <tr>\n",
       "      <th>8</th>\n",
       "      <td>Hive</td>\n",
       "      <td>(?i)\\WSAS\\W?</td>\n",
       "      <td>110</td>\n",
       "      <td>0.15</td>\n",
       "    </tr>\n",
       "    <tr>\n",
       "      <th>9</th>\n",
       "      <td>Spark</td>\n",
       "      <td>(?i)\\WSpark?\\W?</td>\n",
       "      <td>176</td>\n",
       "      <td>0.24</td>\n",
       "    </tr>\n",
       "    <tr>\n",
       "      <th>10</th>\n",
       "      <td>Java</td>\n",
       "      <td>(?i)Java\\w*</td>\n",
       "      <td>158</td>\n",
       "      <td>0.21</td>\n",
       "    </tr>\n",
       "    <tr>\n",
       "      <th>11</th>\n",
       "      <td>JavaScript</td>\n",
       "      <td>(?i)\\WJavaScript\\W?</td>\n",
       "      <td>45</td>\n",
       "      <td>0.06</td>\n",
       "    </tr>\n",
       "  </tbody>\n",
       "</table>\n",
       "</div>"
      ],
      "text/plain": [
       "         skill        regex_pattern  count   pct\n",
       "0            R            \\WR\\W+\\s*    359  0.49\n",
       "1       Python       (?i)\\WPython\\W    509  0.69\n",
       "2       Hadoop      (?i)\\WHadoop\\W?    123  0.17\n",
       "3          SQL           (?i)SQL\\w*    420  0.57\n",
       "4      Tableau     (?i)\\WTableau\\W?    182  0.25\n",
       "5        NoSQL       (?i)\\WNoSQL\\W?     60  0.08\n",
       "6     Power BI        (?i)\\WHive\\W?     81  0.11\n",
       "7          SAS  (?i)\\WPower\\s?BI\\W?     70  0.09\n",
       "8         Hive         (?i)\\WSAS\\W?    110  0.15\n",
       "9        Spark      (?i)\\WSpark?\\W?    176  0.24\n",
       "10        Java          (?i)Java\\w*    158  0.21\n",
       "11  JavaScript  (?i)\\WJavaScript\\W?     45  0.06"
      ]
     },
     "execution_count": 53,
     "metadata": {},
     "output_type": "execute_result"
    }
   ],
   "source": [
    "# Iterate through the list of skill using the search function created\n",
    "i = []\n",
    "for x in skill_df['regex_pattern']:\n",
    "    i.append(count_text(x,text))\n",
    "skill_df['count'] = i\n",
    "skill_df['pct'] = round(skill_df['count']/len(text),2)\n",
    "skill_df"
   ]
  },
  {
   "cell_type": "code",
   "execution_count": 54,
   "metadata": {},
   "outputs": [
    {
     "name": "stderr",
     "output_type": "stream",
     "text": [
      "<ipython-input-54-c28fa8cf68de>:5: UserWarning: FixedFormatter should only be used together with FixedLocator\n",
      "  ax.set_xticklabels(['{:.0%}'.format(x) for x in ax.get_xticks()])\n"
     ]
    },
    {
     "data": {
      "image/png": "[encoded data removed]",
      "text/plain": [
       "<Figure size 720x360 with 1 Axes>"
      ]
     },
     "metadata": {
      "needs_background": "light"
     },
     "output_type": "display_data"
    }
   ],
   "source": [
    "x = skill_df.sort_values(by = 'pct')\n",
    "ax =x['pct'].plot(kind = \"barh\",figsize = (10,5))\n",
    "ax.set_title('Skills as Percentage of Total Job Description', size = 15)\n",
    "ax.set_yticklabels(x['skill'], size = 12)\n",
    "ax.set_xticklabels(['{:.0%}'.format(x) for x in ax.get_xticks()])\n",
    "plt.show()"
   ]
  },
  {
   "cell_type": "markdown",
   "metadata": {},
   "source": [
    "#### Educaton requirement"
   ]
  },
  {
   "cell_type": "code",
   "execution_count": 55,
   "metadata": {},
   "outputs": [],
   "source": [
    "# Define regex pattern and seach for PhD\n",
    "pattern = re.compile('(?i)\\WPh.?D\\W')\n",
    "pattern2 = re.compile('(?i)\\WDoctorate\\W')\n",
    "count = 0\n",
    "for t in text:\n",
    "    if pattern.search(t):\n",
    "        count +=1\n",
    "    elif pattern2.search(t):\n",
    "        count +=1\n",
    "degree = {\"PhD\": count}"
   ]
  },
  {
   "cell_type": "code",
   "execution_count": 56,
   "metadata": {},
   "outputs": [],
   "source": [
    "# Define regex pattern and seach for Master \n",
    "pattern = re.compile(\"(?i)\\WMasters?'?s?\\W\")\n",
    "pattern2 = re.compile('(?i)\\WM.?S\\W')\n",
    "count = 0\n",
    "for t in text:\n",
    "    if pattern.search(t):\n",
    "        count +=1\n",
    "    elif pattern2.search(t):\n",
    "        count +=1\n",
    "degree.update({\"Masters\":count})"
   ]
  },
  {
   "cell_type": "code",
   "execution_count": 57,
   "metadata": {},
   "outputs": [],
   "source": [
    "# Define regex pattern and seach for Master \n",
    "pattern = re.compile(\"(?i)\\WBachelors?'?s?\\W\")\n",
    "pattern2 = re.compile('(?i)\\WBachelor.?S\\W')\n",
    "count = 0\n",
    "for t in text:\n",
    "    if pattern.search(t):\n",
    "        count +=1\n",
    "    elif pattern2.search(t):\n",
    "        count +=1\n",
    "degree.update({\"Bachelors Degree\":count})"
   ]
  },
  {
   "cell_type": "code",
   "execution_count": 60,
   "metadata": {},
   "outputs": [],
   "source": [
    "degree = pd.DataFrame.from_dict(degree,orient='index',\n",
    "                       columns=[ 'count'])\n",
    "degree['pct'] = degree['count']/len(text)"
   ]
  },
  {
   "cell_type": "code",
   "execution_count": 61,
   "metadata": {},
   "outputs": [
    {
     "name": "stderr",
     "output_type": "stream",
     "text": [
      "<ipython-input-61-5ef982755de1>:4: UserWarning: FixedFormatter should only be used together with FixedLocator\n",
      "  ax.set_yticklabels(['{:.0%}'.format(x) for x in ax.get_yticks()])\n"
     ]
    },
    {
     "data": {
      "image/png": "[encoded data removed]",
      "text/plain": [
       "<Figure size 720x360 with 1 Axes>"
      ]
     },
     "metadata": {
      "needs_background": "light"
     },
     "output_type": "display_data"
    }
   ],
   "source": [
    "ax =degree['pct'].plot(kind = \"bar\", figsize =(10,5))\n",
    "ax.set_title('Percentage of Total Documents')\n",
    "ax.set_xticklabels(degree.index)\n",
    "ax.set_yticklabels(['{:.0%}'.format(x) for x in ax.get_yticks()])\n",
    "plt.show()"
   ]
  },
  {
   "cell_type": "code",
   "execution_count": null,
   "metadata": {},
   "outputs": [],
   "source": []
  },
  {
   "cell_type": "code",
   "execution_count": null,
   "metadata": {},
   "outputs": [],
   "source": []
  },
  {
   "cell_type": "code",
   "execution_count": 19,
   "metadata": {},
   "outputs": [],
   "source": [
    "def titles(title):\n",
    "    if 'scientist' in title.lower():\n",
    "        return 'Data Scientist'\n",
    "    elif 'data engineer' in title.lower():\n",
    "        return 'Data Engineer'\n",
    "    elif 'analyst' in title.lower():\n",
    "        return 'Data Analyst'\n",
    "    elif 'machine learning' in title.lower():\n",
    "        return 'ML Engineer'\n",
    "    elif 'manager' in title.lower():\n",
    "        return 'Manager'\n",
    "    elif 'director' in title.lower():\n",
    "        return 'Director'\n",
    "    elif 'consultant' in title.lower():\n",
    "        return 'Consultant'\n",
    "    else:\n",
    "        return 'na'\n",
    "\n",
    "pos_lead=re.compile(r'lead|principal|iii|iv',re.I)\n",
    "pos_sr=re.compile(r'senior|sr.|sr|ii',re.I)\n",
    "pos_jr=re.compile(r'junior|jr|jr.|entry|i',re.I)\n",
    "def seniority(title):\n",
    "    if 'sr' in title.lower() or 'senior' in title.lower() or 'sr.' in title.lower() or 'ii' in title.lower():\n",
    "            return 'Senior'\n",
    "    elif 'lead' in title.lower() or 'principal' in title.lower() or 'iii' in title.lower() or \\\n",
    "            'iv' in title.lower() or 'director' in title.lower():\n",
    "            return 'Lead'\n",
    "    elif 'jr' in title.lower() or 'jr.' in title.lower() or 'junior' in title.lower():\n",
    "        return 'Junior'\n",
    "    else:\n",
    "        return 'regular'"
   ]
  },
  {
   "cell_type": "code",
   "execution_count": 20,
   "metadata": {},
   "outputs": [
    {
     "data": {
      "text/html": [
       "<div>\n",
       "<style scoped>\n",
       "    .dataframe tbody tr th:only-of-type {\n",
       "        vertical-align: middle;\n",
       "    }\n",
       "\n",
       "    .dataframe tbody tr th {\n",
       "        vertical-align: top;\n",
       "    }\n",
       "\n",
       "    .dataframe thead th {\n",
       "        text-align: right;\n",
       "    }\n",
       "</style>\n",
       "<table border=\"1\" class=\"dataframe\">\n",
       "  <thead>\n",
       "    <tr style=\"text-align: right;\">\n",
       "      <th></th>\n",
       "      <th>Job_Title</th>\n",
       "      <th>Salary_Estimate</th>\n",
       "      <th>Job_Description</th>\n",
       "      <th>Rating</th>\n",
       "      <th>Company_Name</th>\n",
       "      <th>Location</th>\n",
       "      <th>Size</th>\n",
       "      <th>Founded</th>\n",
       "      <th>Type_of_ownership</th>\n",
       "      <th>Industry</th>\n",
       "      <th>Sector</th>\n",
       "      <th>Revenue</th>\n",
       "      <th>hourly</th>\n",
       "      <th>min_salary</th>\n",
       "      <th>max_salary</th>\n",
       "      <th>avg_salary</th>\n",
       "      <th>City</th>\n",
       "      <th>State</th>\n",
       "      <th>Years_Old</th>\n",
       "      <th>job_title_corr</th>\n",
       "    </tr>\n",
       "  </thead>\n",
       "  <tbody>\n",
       "    <tr>\n",
       "      <th>0</th>\n",
       "      <td>Data Scientist, Machine Learning</td>\n",
       "      <td>48-79</td>\n",
       "      <td>Job Description\\n\\nAt Shipt, we are transformi...</td>\n",
       "      <td>3.4</td>\n",
       "      <td>Shipt</td>\n",
       "      <td>Birmingham, AL</td>\n",
       "      <td>1001 to 5000 Employees</td>\n",
       "      <td>2014</td>\n",
       "      <td>Subsidiary or Business Segment</td>\n",
       "      <td>Consumer Product Rental</td>\n",
       "      <td>Consumer Services</td>\n",
       "      <td>Unknown / Non-Applicable</td>\n",
       "      <td>0</td>\n",
       "      <td>48</td>\n",
       "      <td>79</td>\n",
       "      <td>63.5</td>\n",
       "      <td>Birmingham</td>\n",
       "      <td>AL</td>\n",
       "      <td>6</td>\n",
       "      <td>Data Scientist</td>\n",
       "    </tr>\n",
       "    <tr>\n",
       "      <th>1</th>\n",
       "      <td>Data Scientist</td>\n",
       "      <td>78-133</td>\n",
       "      <td>Publishers Clearing House (PCH), located in Je...</td>\n",
       "      <td>3.4</td>\n",
       "      <td>Publishers Clearing House</td>\n",
       "      <td>Jericho, NY</td>\n",
       "      <td>501 to 1000 Employees</td>\n",
       "      <td>1953</td>\n",
       "      <td>Company - Private</td>\n",
       "      <td>Advertising &amp; Marketing</td>\n",
       "      <td>Business Services</td>\n",
       "      <td>$500 million to $1 billion (USD)</td>\n",
       "      <td>0</td>\n",
       "      <td>78</td>\n",
       "      <td>133</td>\n",
       "      <td>105.5</td>\n",
       "      <td>Jericho</td>\n",
       "      <td>NY</td>\n",
       "      <td>67</td>\n",
       "      <td>Data Scientist</td>\n",
       "    </tr>\n",
       "    <tr>\n",
       "      <th>2</th>\n",
       "      <td>Data Engineer</td>\n",
       "      <td>72-135</td>\n",
       "      <td>About The Role:\\n\\nARC is searching for a Data...</td>\n",
       "      <td>3.9</td>\n",
       "      <td>Airlines Reporting Corporation (ARC)</td>\n",
       "      <td>Arlington, VA</td>\n",
       "      <td>201 to 500 Employees</td>\n",
       "      <td>1984</td>\n",
       "      <td>Company - Private</td>\n",
       "      <td>Financial Transaction Processing</td>\n",
       "      <td>Finance</td>\n",
       "      <td>$100 to $500 million (USD)</td>\n",
       "      <td>0</td>\n",
       "      <td>72</td>\n",
       "      <td>135</td>\n",
       "      <td>103.5</td>\n",
       "      <td>Arlington</td>\n",
       "      <td>VA</td>\n",
       "      <td>36</td>\n",
       "      <td>Data Engineer</td>\n",
       "    </tr>\n",
       "    <tr>\n",
       "      <th>3</th>\n",
       "      <td>Sr. Data Scientist</td>\n",
       "      <td>71-118</td>\n",
       "      <td>Overview:\\n\\nMedifast is seeking a full-time S...</td>\n",
       "      <td>2.9</td>\n",
       "      <td>Medifast, Inc.</td>\n",
       "      <td>Baltimore, MD</td>\n",
       "      <td>501 to 1000 Employees</td>\n",
       "      <td>1980</td>\n",
       "      <td>Company - Public</td>\n",
       "      <td>Health, Beauty, &amp; Fitness</td>\n",
       "      <td>Consumer Services</td>\n",
       "      <td>$500 million to $1 billion (USD)</td>\n",
       "      <td>0</td>\n",
       "      <td>71</td>\n",
       "      <td>118</td>\n",
       "      <td>94.5</td>\n",
       "      <td>Baltimore</td>\n",
       "      <td>MD</td>\n",
       "      <td>40</td>\n",
       "      <td>Data Scientist</td>\n",
       "    </tr>\n",
       "    <tr>\n",
       "      <th>5</th>\n",
       "      <td>Data Analyst</td>\n",
       "      <td>35-70</td>\n",
       "      <td>Data Specialist\\n\\nJob Summary\\n\\nWe are on th...</td>\n",
       "      <td>4.9</td>\n",
       "      <td>Marxent</td>\n",
       "      <td>Miamisburg, OH</td>\n",
       "      <td>51 to 200 Employees</td>\n",
       "      <td>2011</td>\n",
       "      <td>Company - Private</td>\n",
       "      <td>Computer Hardware &amp; Software</td>\n",
       "      <td>Information Technology</td>\n",
       "      <td>Unknown / Non-Applicable</td>\n",
       "      <td>0</td>\n",
       "      <td>35</td>\n",
       "      <td>70</td>\n",
       "      <td>52.5</td>\n",
       "      <td>Miamisburg</td>\n",
       "      <td>OH</td>\n",
       "      <td>9</td>\n",
       "      <td>Data Analyst</td>\n",
       "    </tr>\n",
       "  </tbody>\n",
       "</table>\n",
       "</div>"
      ],
      "text/plain": [
       "                          Job_Title Salary_Estimate  \\\n",
       "0  Data Scientist, Machine Learning           48-79   \n",
       "1                    Data Scientist          78-133   \n",
       "2                     Data Engineer          72-135   \n",
       "3                Sr. Data Scientist          71-118   \n",
       "5                      Data Analyst           35-70   \n",
       "\n",
       "                                     Job_Description  Rating  \\\n",
       "0  Job Description\\n\\nAt Shipt, we are transformi...     3.4   \n",
       "1  Publishers Clearing House (PCH), located in Je...     3.4   \n",
       "2  About The Role:\\n\\nARC is searching for a Data...     3.9   \n",
       "3  Overview:\\n\\nMedifast is seeking a full-time S...     2.9   \n",
       "5  Data Specialist\\n\\nJob Summary\\n\\nWe are on th...     4.9   \n",
       "\n",
       "                           Company_Name        Location  \\\n",
       "0                                 Shipt  Birmingham, AL   \n",
       "1             Publishers Clearing House     Jericho, NY   \n",
       "2  Airlines Reporting Corporation (ARC)   Arlington, VA   \n",
       "3                        Medifast, Inc.   Baltimore, MD   \n",
       "5                               Marxent  Miamisburg, OH   \n",
       "\n",
       "                     Size  Founded               Type_of_ownership  \\\n",
       "0  1001 to 5000 Employees     2014  Subsidiary or Business Segment   \n",
       "1   501 to 1000 Employees     1953               Company - Private   \n",
       "2    201 to 500 Employees     1984               Company - Private   \n",
       "3   501 to 1000 Employees     1980                Company - Public   \n",
       "5     51 to 200 Employees     2011               Company - Private   \n",
       "\n",
       "                           Industry                  Sector  \\\n",
       "0           Consumer Product Rental       Consumer Services   \n",
       "1           Advertising & Marketing       Business Services   \n",
       "2  Financial Transaction Processing                 Finance   \n",
       "3         Health, Beauty, & Fitness       Consumer Services   \n",
       "5      Computer Hardware & Software  Information Technology   \n",
       "\n",
       "                            Revenue  hourly  min_salary  max_salary  \\\n",
       "0          Unknown / Non-Applicable       0          48          79   \n",
       "1  $500 million to $1 billion (USD)       0          78         133   \n",
       "2        $100 to $500 million (USD)       0          72         135   \n",
       "3  $500 million to $1 billion (USD)       0          71         118   \n",
       "5          Unknown / Non-Applicable       0          35          70   \n",
       "\n",
       "   avg_salary        City State  Years_Old  job_title_corr  \n",
       "0        63.5  Birmingham    AL          6  Data Scientist  \n",
       "1       105.5     Jericho    NY         67  Data Scientist  \n",
       "2       103.5   Arlington    VA         36   Data Engineer  \n",
       "3        94.5   Baltimore    MD         40  Data Scientist  \n",
       "5        52.5  Miamisburg    OH          9    Data Analyst  "
      ]
     },
     "execution_count": 20,
     "metadata": {},
     "output_type": "execute_result"
    }
   ],
   "source": [
    "ds_df['job_title_corr'] = ds_df['Job_Title'].apply(titles)\n",
    "ds_df.head()"
   ]
  },
  {
   "cell_type": "code",
   "execution_count": 21,
   "metadata": {},
   "outputs": [
    {
     "data": {
      "text/plain": [
       "regular    618\n",
       "Senior      79\n",
       "Lead        38\n",
       "Junior       2\n",
       "Name: job_level, dtype: int64"
      ]
     },
     "execution_count": 21,
     "metadata": {},
     "output_type": "execute_result"
    }
   ],
   "source": [
    "ds_df['job_level'] = ds_df['Job_Title'].apply(seniority)\n",
    "ds_df['job_level'].value_counts()"
   ]
  },
  {
   "cell_type": "code",
   "execution_count": 22,
   "metadata": {},
   "outputs": [],
   "source": [
    "# Create a dict of skills as keys and search patterns as values\n",
    "hard_skills_dict = {\n",
    "    'Python': r\"python\",\n",
    "    'R': r\"[\\b\\s/]r[\\s,\\.]\",\n",
    "    'Excel': r'excel', \n",
    "    'Tableau': r'tableau', \n",
    "    'SQL': r'sql', \n",
    "    'SAS': r'\\bsas\\b',\n",
    "    'SPSS': r'\\bSPSS\\b',\n",
    "    'VBA': r'\\bvba\\b',\n",
    "    'PowerBI': r'power[\\s]BI',\n",
    "    'AWS': r\"\\bAWS\\b\",\n",
    "    'Git': r\"\\bGit\",\n",
    "    'Dashboard': r\"\\bDashboard[s]\",\n",
    "    'Spark': r'Spark',\n",
    "    'Scala': r'Scala',\n",
    "    'Matplotlib': r'Matplotlib',\n",
    "    'Java': r'Java',\n",
    "    'NoSQL': r\"nosql\",\n",
    "    'Plotly': r'Plotly',\n",
    "    'Oracle': r'oracle',\n",
    "    'UNIX': r'unix',\n",
    "    'Linux': r'linux',\n",
    "    'JavaScript': r'javascript',\n",
    "    'Hadoop': r'hadoop',\n",
    "    'Hive': r'hive',\n",
    "    'Pandas': r'pandas'    \n",
    "}"
   ]
  },
  {
   "cell_type": "code",
   "execution_count": 23,
   "metadata": {},
   "outputs": [],
   "source": [
    "hard_skills = {}\n",
    "\n",
    "# Loop through skills, and count the frequency\n",
    "for key, search in hard_skills_dict.items():\n",
    "    hard_skills[key] = ds_df['Job_Description'].str.contains(search, flags=re.IGNORECASE).sum()\n",
    "\n",
    "    \n",
    "# Build a DataFrame of skills, counts and frequencies.\n",
    "skills = pd.DataFrame.from_dict(hard_skills, orient='index').reset_index().rename({'index':'skill', 0:'count'}, axis=1).sort_values('count', 0, False)\n",
    "skills['freq'] = skills['count'] / ds_df.shape[0]"
   ]
  },
  {
   "cell_type": "code",
   "execution_count": null,
   "metadata": {},
   "outputs": [],
   "source": [
    "ds_df.head()"
   ]
  },
  {
   "cell_type": "code",
   "execution_count": 24,
   "metadata": {},
   "outputs": [
    {
     "data": {
      "text/html": [
       "<div>\n",
       "<style scoped>\n",
       "    .dataframe tbody tr th:only-of-type {\n",
       "        vertical-align: middle;\n",
       "    }\n",
       "\n",
       "    .dataframe tbody tr th {\n",
       "        vertical-align: top;\n",
       "    }\n",
       "\n",
       "    .dataframe thead th {\n",
       "        text-align: right;\n",
       "    }\n",
       "</style>\n",
       "<table border=\"1\" class=\"dataframe\">\n",
       "  <thead>\n",
       "    <tr style=\"text-align: right;\">\n",
       "      <th></th>\n",
       "      <th>skill</th>\n",
       "      <th>count</th>\n",
       "      <th>freq</th>\n",
       "    </tr>\n",
       "  </thead>\n",
       "  <tbody>\n",
       "    <tr>\n",
       "      <th>0</th>\n",
       "      <td>Python</td>\n",
       "      <td>509</td>\n",
       "      <td>0.690638</td>\n",
       "    </tr>\n",
       "    <tr>\n",
       "      <th>4</th>\n",
       "      <td>SQL</td>\n",
       "      <td>420</td>\n",
       "      <td>0.569878</td>\n",
       "    </tr>\n",
       "    <tr>\n",
       "      <th>2</th>\n",
       "      <td>Excel</td>\n",
       "      <td>406</td>\n",
       "      <td>0.550882</td>\n",
       "    </tr>\n",
       "    <tr>\n",
       "      <th>1</th>\n",
       "      <td>R</td>\n",
       "      <td>306</td>\n",
       "      <td>0.415197</td>\n",
       "    </tr>\n",
       "    <tr>\n",
       "      <th>3</th>\n",
       "      <td>Tableau</td>\n",
       "      <td>182</td>\n",
       "      <td>0.246947</td>\n",
       "    </tr>\n",
       "    <tr>\n",
       "      <th>12</th>\n",
       "      <td>Spark</td>\n",
       "      <td>179</td>\n",
       "      <td>0.242877</td>\n",
       "    </tr>\n",
       "    <tr>\n",
       "      <th>15</th>\n",
       "      <td>Java</td>\n",
       "      <td>158</td>\n",
       "      <td>0.214383</td>\n",
       "    </tr>\n",
       "    <tr>\n",
       "      <th>13</th>\n",
       "      <td>Scala</td>\n",
       "      <td>152</td>\n",
       "      <td>0.206242</td>\n",
       "    </tr>\n",
       "    <tr>\n",
       "      <th>9</th>\n",
       "      <td>AWS</td>\n",
       "      <td>126</td>\n",
       "      <td>0.170963</td>\n",
       "    </tr>\n",
       "    <tr>\n",
       "      <th>22</th>\n",
       "      <td>Hadoop</td>\n",
       "      <td>123</td>\n",
       "      <td>0.166893</td>\n",
       "    </tr>\n",
       "    <tr>\n",
       "      <th>5</th>\n",
       "      <td>SAS</td>\n",
       "      <td>110</td>\n",
       "      <td>0.149254</td>\n",
       "    </tr>\n",
       "    <tr>\n",
       "      <th>11</th>\n",
       "      <td>Dashboard</td>\n",
       "      <td>106</td>\n",
       "      <td>0.143826</td>\n",
       "    </tr>\n",
       "    <tr>\n",
       "      <th>23</th>\n",
       "      <td>Hive</td>\n",
       "      <td>81</td>\n",
       "      <td>0.109905</td>\n",
       "    </tr>\n",
       "    <tr>\n",
       "      <th>20</th>\n",
       "      <td>Linux</td>\n",
       "      <td>80</td>\n",
       "      <td>0.108548</td>\n",
       "    </tr>\n",
       "    <tr>\n",
       "      <th>10</th>\n",
       "      <td>Git</td>\n",
       "      <td>69</td>\n",
       "      <td>0.093623</td>\n",
       "    </tr>\n",
       "    <tr>\n",
       "      <th>24</th>\n",
       "      <td>Pandas</td>\n",
       "      <td>61</td>\n",
       "      <td>0.082768</td>\n",
       "    </tr>\n",
       "    <tr>\n",
       "      <th>16</th>\n",
       "      <td>NoSQL</td>\n",
       "      <td>60</td>\n",
       "      <td>0.081411</td>\n",
       "    </tr>\n",
       "    <tr>\n",
       "      <th>21</th>\n",
       "      <td>JavaScript</td>\n",
       "      <td>45</td>\n",
       "      <td>0.061058</td>\n",
       "    </tr>\n",
       "    <tr>\n",
       "      <th>19</th>\n",
       "      <td>UNIX</td>\n",
       "      <td>40</td>\n",
       "      <td>0.054274</td>\n",
       "    </tr>\n",
       "    <tr>\n",
       "      <th>18</th>\n",
       "      <td>Oracle</td>\n",
       "      <td>36</td>\n",
       "      <td>0.048847</td>\n",
       "    </tr>\n",
       "    <tr>\n",
       "      <th>8</th>\n",
       "      <td>PowerBI</td>\n",
       "      <td>35</td>\n",
       "      <td>0.047490</td>\n",
       "    </tr>\n",
       "    <tr>\n",
       "      <th>6</th>\n",
       "      <td>SPSS</td>\n",
       "      <td>28</td>\n",
       "      <td>0.037992</td>\n",
       "    </tr>\n",
       "    <tr>\n",
       "      <th>7</th>\n",
       "      <td>VBA</td>\n",
       "      <td>19</td>\n",
       "      <td>0.025780</td>\n",
       "    </tr>\n",
       "    <tr>\n",
       "      <th>14</th>\n",
       "      <td>Matplotlib</td>\n",
       "      <td>19</td>\n",
       "      <td>0.025780</td>\n",
       "    </tr>\n",
       "    <tr>\n",
       "      <th>17</th>\n",
       "      <td>Plotly</td>\n",
       "      <td>3</td>\n",
       "      <td>0.004071</td>\n",
       "    </tr>\n",
       "  </tbody>\n",
       "</table>\n",
       "</div>"
      ],
      "text/plain": [
       "         skill  count      freq\n",
       "0       Python    509  0.690638\n",
       "4          SQL    420  0.569878\n",
       "2        Excel    406  0.550882\n",
       "1            R    306  0.415197\n",
       "3      Tableau    182  0.246947\n",
       "12       Spark    179  0.242877\n",
       "15        Java    158  0.214383\n",
       "13       Scala    152  0.206242\n",
       "9          AWS    126  0.170963\n",
       "22      Hadoop    123  0.166893\n",
       "5          SAS    110  0.149254\n",
       "11   Dashboard    106  0.143826\n",
       "23        Hive     81  0.109905\n",
       "20       Linux     80  0.108548\n",
       "10         Git     69  0.093623\n",
       "24      Pandas     61  0.082768\n",
       "16       NoSQL     60  0.081411\n",
       "21  JavaScript     45  0.061058\n",
       "19        UNIX     40  0.054274\n",
       "18      Oracle     36  0.048847\n",
       "8      PowerBI     35  0.047490\n",
       "6         SPSS     28  0.037992\n",
       "7          VBA     19  0.025780\n",
       "14  Matplotlib     19  0.025780\n",
       "17      Plotly      3  0.004071"
      ]
     },
     "execution_count": 24,
     "metadata": {},
     "output_type": "execute_result"
    }
   ],
   "source": [
    "skills"
   ]
  },
  {
   "cell_type": "code",
   "execution_count": 64,
   "metadata": {},
   "outputs": [
    {
     "ename": "ModuleNotFoundError",
     "evalue": "No module named 'mlxtend'",
     "output_type": "error",
     "traceback": [
      "\u001b[1;31m---------------------------------------------------------------------------\u001b[0m",
      "\u001b[1;31mModuleNotFoundError\u001b[0m                       Traceback (most recent call last)",
      "\u001b[1;32m<ipython-input-64-9243bc1505ed>\u001b[0m in \u001b[0;36m<module>\u001b[1;34m\u001b[0m\n\u001b[1;32m----> 1\u001b[1;33m \u001b[1;32mfrom\u001b[0m \u001b[0mmlxtend\u001b[0m\u001b[1;33m.\u001b[0m\u001b[0mfrequent_patterns\u001b[0m \u001b[1;32mimport\u001b[0m \u001b[0mapriori\u001b[0m\u001b[1;33m,\u001b[0m \u001b[0massociation_rules\u001b[0m\u001b[1;33m\u001b[0m\u001b[1;33m\u001b[0m\u001b[0m\n\u001b[0m",
      "\u001b[1;31mModuleNotFoundError\u001b[0m: No module named 'mlxtend'"
     ]
    }
   ],
   "source": [
    "from mlxtend.frequent_patterns import apriori, association_rules"
   ]
  },
  {
   "cell_type": "code",
   "execution_count": null,
   "metadata": {},
   "outputs": [],
   "source": [
    "pat_python_r = re.compile(r'python|r',re.I)\n",
    "pat_sql_nosql = re.compile(r'sql|nosql',re.I)\n",
    "pat_java = re.compile(r'java',re.I)\n",
    "pat_javascript = re.compile(r'javascript',re.I)\n",
    "pat_tab_bi = re.compile(r'tableau|bi|powerbi|power',re.I)\n",
    "pat_hadoop = re.compile(r'hadoop|hive|spark',re.I)\n",
    "pat_sas = re.compile(r'sas',re.I)\n",
    "pat_visualization = re.compile(r'visualization|visualizations',re.I)"
   ]
  },
  {
   "cell_type": "code",
   "execution_count": null,
   "metadata": {},
   "outputs": [],
   "source": [
    "def job_skill(row):\n",
    "    if re.search(pat_python_r,row['Job_Description']):\n",
    "        return 'Python/R'\n",
    "    if re.search(pat_tab_bi,row['Job_Description']):\n",
    "        return 'PowerBi/Tableau'\n",
    "    if re.search(pat_visualization,row['Job_Description']):\n",
    "        return 'Visualization'\n",
    "    if re.search(pat_java,row['Job_Description']):\n",
    "        return 'Java'\n",
    "    if re.search(pat_javascript,row['Job_Description']):\n",
    "        return 'JavaScript'\n",
    "    if re.search(pat_sql_nosql,row['Job_Description']):\n",
    "        return 'SQL/NoSQL'\n",
    "    if re.search(pat_hadoop,row['Job_Description']):\n",
    "        return 'Hadoop/Hive/Spark'\n",
    "    if re.search(pat_sas,row['Job_Description']):\n",
    "        return 'SAS'\n",
    "    return None\n",
    "    \n",
    "ds_df['Job_Skill']=ds_df.apply(job_skill,axis=1)\n",
    "ds_df['Job_Skill'].value_counts()"
   ]
  },
  {
   "cell_type": "code",
   "execution_count": null,
   "metadata": {},
   "outputs": [],
   "source": [
    "    if re.search(pat_r,row['fdist']):\n",
    "        return 'R'\n",
    "    if re.search(pat_sql,row['fdist']):\n",
    "        return 'SQL'\n",
    "    if re.search(pat_nosql,row['fdist']):\n",
    "        return 'NoSQL' \n",
    "    if re.search(pat_java,row['fdist']):\n",
    "        return 'Java' \n",
    "    \n",
    "ds_df['job_skills']=ds_df.apply(job_skill,axis=1)\n",
    "ds_df.head()"
   ]
  },
  {
   "cell_type": "code",
   "execution_count": null,
   "metadata": {},
   "outputs": [],
   "source": [
    "    if re.search(pat_javascript,row['Job_Description']):\n",
    "        return 'JavaScript' \n",
    "    if re.search(pat_tableau,row['Job_Description']):\n",
    "        return 'Tableau' \n",
    "    if re.search(pat_bi,row['Job_Description']):\n",
    "        return 'PowerBi' \n",
    "    if re.search(pat_sas,row['Job_Description']):\n",
    "        return 'SAS' \n",
    "    if re.search(pat_visualization,row['Job_Description']):\n",
    "        return 'Visualization' \n",
    "    if re.search(pat_hadoop,row['Job_Description']):\n",
    "        return 'Hadoop/Hive/Spark' \n",
    "    return None\n",
    "    \n",
    "ds_df['job_skills']=ds_df.apply(job_skill,axis=1)\n",
    "ds_df.head()"
   ]
  },
  {
   "cell_type": "code",
   "execution_count": null,
   "metadata": {},
   "outputs": [],
   "source": [
    "ds_df.shape"
   ]
  },
  {
   "cell_type": "code",
   "execution_count": null,
   "metadata": {},
   "outputs": [],
   "source": [
    "pd.pivot_table(ds_df, index = 'job_title_corr', values = 'avg_salary')"
   ]
  },
  {
   "cell_type": "code",
   "execution_count": null,
   "metadata": {},
   "outputs": [],
   "source": [
    "ds_df['job_skills'].value_counts()"
   ]
  },
  {
   "cell_type": "code",
   "execution_count": null,
   "metadata": {},
   "outputs": [],
   "source": [
    "pd.set_option('display.max_rows', 1000) "
   ]
  },
  {
   "cell_type": "code",
   "execution_count": null,
   "metadata": {},
   "outputs": [],
   "source": [
    "ds_df"
   ]
  },
  {
   "cell_type": "code",
   "execution_count": null,
   "metadata": {},
   "outputs": [],
   "source": [
    "pat_python"
   ]
  },
  {
   "cell_type": "code",
   "execution_count": null,
   "metadata": {},
   "outputs": [],
   "source": [
    "ds_df['RR'] = ds_df['Job_Description'].apply(lambda x: 1 if ' r,' in x.lower() or ' r ' in x.lower() or ',r ' in x.lower() or ' r' in x.lower() else 0)\n",
    "ds_df['RR'].value_counts()"
   ]
  },
  {
   "cell_type": "code",
   "execution_count": null,
   "metadata": {},
   "outputs": [],
   "source": []
  },
  {
   "cell_type": "code",
   "execution_count": null,
   "metadata": {},
   "outputs": [],
   "source": []
  },
  {
   "cell_type": "code",
   "execution_count": null,
   "metadata": {},
   "outputs": [],
   "source": []
  },
  {
   "cell_type": "code",
   "execution_count": null,
   "metadata": {},
   "outputs": [],
   "source": []
  },
  {
   "cell_type": "code",
   "execution_count": null,
   "metadata": {},
   "outputs": [],
   "source": []
  },
  {
   "cell_type": "code",
   "execution_count": null,
   "metadata": {},
   "outputs": [],
   "source": []
  },
  {
   "cell_type": "code",
   "execution_count": null,
   "metadata": {},
   "outputs": [],
   "source": []
  },
  {
   "cell_type": "code",
   "execution_count": null,
   "metadata": {},
   "outputs": [],
   "source": []
  },
  {
   "cell_type": "code",
   "execution_count": null,
   "metadata": {},
   "outputs": [],
   "source": []
  },
  {
   "cell_type": "code",
   "execution_count": null,
   "metadata": {},
   "outputs": [],
   "source": []
  },
  {
   "cell_type": "code",
   "execution_count": null,
   "metadata": {},
   "outputs": [],
   "source": []
  },
  {
   "cell_type": "code",
   "execution_count": null,
   "metadata": {},
   "outputs": [],
   "source": []
  },
  {
   "cell_type": "code",
   "execution_count": null,
   "metadata": {},
   "outputs": [],
   "source": []
  },
  {
   "cell_type": "code",
   "execution_count": null,
   "metadata": {},
   "outputs": [],
   "source": []
  },
  {
   "cell_type": "code",
   "execution_count": null,
   "metadata": {},
   "outputs": [],
   "source": []
  },
  {
   "cell_type": "code",
   "execution_count": null,
   "metadata": {},
   "outputs": [],
   "source": []
  },
  {
   "cell_type": "code",
   "execution_count": null,
   "metadata": {},
   "outputs": [],
   "source": []
  },
  {
   "cell_type": "code",
   "execution_count": null,
   "metadata": {},
   "outputs": [],
   "source": []
  },
  {
   "cell_type": "code",
   "execution_count": null,
   "metadata": {},
   "outputs": [],
   "source": []
  },
  {
   "cell_type": "code",
   "execution_count": null,
   "metadata": {},
   "outputs": [],
   "source": []
  },
  {
   "cell_type": "code",
   "execution_count": null,
   "metadata": {},
   "outputs": [],
   "source": []
  },
  {
   "cell_type": "code",
   "execution_count": null,
   "metadata": {},
   "outputs": [],
   "source": []
  },
  {
   "cell_type": "code",
   "execution_count": null,
   "metadata": {},
   "outputs": [],
   "source": []
  },
  {
   "cell_type": "code",
   "execution_count": null,
   "metadata": {},
   "outputs": [],
   "source": []
  },
  {
   "cell_type": "code",
   "execution_count": null,
   "metadata": {},
   "outputs": [],
   "source": []
  },
  {
   "cell_type": "code",
   "execution_count": null,
   "metadata": {},
   "outputs": [],
   "source": []
  },
  {
   "cell_type": "code",
   "execution_count": null,
   "metadata": {},
   "outputs": [],
   "source": [
    "# combine all the job titles into a string\n",
    "job_title_str=' '.join([x for x in ds_df['Job_Title']])\n",
    "job_title_str = job_title_str.lower()\n",
    "tokens = nltk.word_tokenize(job_title_str)\n",
    "tokens=[x.lower() for x in tokens]\n",
    "tokens\n",
    "# from nltk.probability import FreqDist\n",
    "fdist = FreqDist(tokens)\n",
    "tops=fdist.most_common(100)\n",
    "\n",
    "# drop single word or symbol\n",
    "delarr=[]\n",
    "for key in fdist:\n",
    "    if len(key)<2:\n",
    "        delarr.append(key)\n",
    "for key in delarr:\n",
    "    del fdist[key]\n",
    "    \n",
    "tops=fdist.most_common(100)\n",
    "pprint.pprint(tops)\n",
    "# re.I ==> ignore case\n",
    "pos_lead=re.compile(r'lead|principal|iii|iv',re.I)\n",
    "pos_sr=re.compile(r'senior|sr.|sr|ii',re.I)\n",
    "pos_jr=re.compile(r'junior|jr|jr.|entry|i',re.I)\n",
    "def job_title(row):\n",
    "    if re.match(pos_lead,row['Job_Title']):\n",
    "        return 'Lead'\n",
    "    elif re.match(pos_sr,row['Job_Title']):\n",
    "        return 'Senior'\n",
    "    elif re.match(pos_jr,row['Job_Title']):\n",
    "        return 'Junior'\n",
    "    else:\n",
    "        return 'regular'\n",
    "    \n",
    "ds_df['Job_Level']=ds_df.apply(job_title,axis=1)\n",
    "ds_df.head()"
   ]
  }
 ],
 "metadata": {
  "kernelspec": {
   "display_name": "Python [conda env:PythonData] *",
   "language": "python",
   "name": "conda-env-PythonData-py"
  },
  "language_info": {
   "codemirror_mode": {
    "name": "ipython",
    "version": 3
   },
   "file_extension": ".py",
   "mimetype": "text/x-python",
   "name": "python",
   "nbconvert_exporter": "python",
   "pygments_lexer": "ipython3",
   "version": "3.8.3"
  }
 },
 "nbformat": 4,
 "nbformat_minor": 4
}
